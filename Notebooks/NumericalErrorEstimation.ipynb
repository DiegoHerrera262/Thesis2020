{
 "cells": [
  {
   "cell_type": "code",
   "execution_count": 58,
   "source": [
    "import numpy as np\n",
    "import matplotlib.pyplot as plt\n",
    "from scipy.linalg import expm, sqrtm\n",
    "from numpy import matmul, trace\n",
    "from numpy.linalg import matrix_power, norm"
   ],
   "outputs": [],
   "metadata": {}
  },
  {
   "cell_type": "code",
   "execution_count": 36,
   "source": [
    "Pauli0 = np.array([\n",
    "    [1,0],\n",
    "    [0,1]\n",
    "])\n",
    "PauliX = np.array([\n",
    "    [0,1],\n",
    "    [1,0]\n",
    "])\n",
    "PauliY = np.array([\n",
    "    [0,-1j],\n",
    "    [1j,0]\n",
    "])\n",
    "PauliZ = np.array([\n",
    "    [1,0],\n",
    "    [1,-1]\n",
    "])"
   ],
   "outputs": [],
   "metadata": {}
  },
  {
   "cell_type": "code",
   "execution_count": 37,
   "source": [
    "def spinHamiltonian(J = np.array([1,1,1])):\n",
    "    '''\n",
    "    funtion for retrieving\n",
    "    spin-spin interaction\n",
    "    Hamiltonian\n",
    "    '''\n",
    "    return J[0] * np.kron(PauliX, PauliX) + \\\n",
    "           J[1] * np.kron(PauliY, PauliY) + \\\n",
    "           J[2] * np.kron(PauliZ, PauliZ)\n",
    "\n",
    "def fieldHamiltonian(H = np.array([1,1,1])):\n",
    "    '''\n",
    "    function for retrieving\n",
    "    field interaction\n",
    "    Hamiltonian\n",
    "    '''\n",
    "    return H[0] * (np.kron(PauliX, Pauli0) + np.kron(Pauli0, PauliX)) + \\\n",
    "           H[1] * (np.kron(PauliY, Pauli0) + np.kron(Pauli0, PauliY)) + \\\n",
    "           H[2] * (np.kron(PauliZ, Pauli0) + np.kron(Pauli0, PauliZ))\n",
    "\n",
    "def totalHamiltonian(excInts = np.array([1,1,1]), field = np.array([1,1,1])):\n",
    "    '''\n",
    "    function for retrieving\n",
    "    total hamiltonian\n",
    "    '''\n",
    "    return spinHamiltonian(excInts) + fieldHamiltonian(field)"
   ],
   "outputs": [],
   "metadata": {}
  },
  {
   "cell_type": "code",
   "execution_count": 59,
   "source": [
    "def exactUnitary(t, **kwargs):\n",
    "    '''\n",
    "    function for retrieving\n",
    "    exact evolution op\n",
    "    '''\n",
    "    return expm(-1j * t * totalHamiltonian(kwargs['excInts'], kwargs['field']))\n",
    "\n",
    "def totalUnitary(t, STEPS=1, **kwargs):\n",
    "    '''\n",
    "    funcion for retrieving\n",
    "    total evolution op\n",
    "    '''\n",
    "    dt = t / STEPS\n",
    "    timeSlice = matmul(expm(-1j * dt * spinHamiltonian(kwargs['excInts'])) , \\\n",
    "                expm(-1j * dt * fieldHamiltonian(kwargs['field'])))\n",
    "    # timeSlice = matmul(expm(-1j * dt/2 * spinHamiltonian(kwargs['excInts'])) , \\\n",
    "    #             matmul(expm(-1j * dt * fieldHamiltonian(kwargs['field'])), \\\n",
    "    #                    expm(-1j * dt/2 * spinHamiltonian(kwargs['excInts']))))\n",
    "    return matrix_power(timeSlice, STEPS)\n",
    "\n",
    "def frobDistance(t, STEPS=1, **kwargs):\n",
    "    '''\n",
    "    Error estimation using\n",
    "    frobenius distance\n",
    "    '''\n",
    "    return norm(totalUnitary(t=t, STEPS=STEPS, excInts=kwargs['excInts'], field=kwargs['field']) - \\\n",
    "                exactUnitary(t=t, excInts=kwargs['excInts'], field=kwargs['field']))\n",
    "\n",
    "def meanFrobDistance(t, STEPS=1, SHOTS=1000):\n",
    "    '''\n",
    "    Mean error under field and exchange\n",
    "    integrals\n",
    "    '''\n",
    "    return sum(frobDistance(t, STEPS=STEPS, excInts=np.random.random(3), field=np.random.random(3)) \\\n",
    "                  for _ in range(SHOTS)) / SHOTS\n",
    "\n",
    "def stateFidelity(t, STEPS=1, **kwargs):\n",
    "    '''\n",
    "    State fidelity of ST\n",
    "    evolution\n",
    "    '''\n",
    "    unitOp = matmul(totalUnitary(t=t, STEPS=STEPS, excInts=kwargs['excInts'], field=kwargs['field']).conj().T,\n",
    "                    exactUnitary(t=t, excInts=kwargs['excInts'], field=kwargs['field']))\n",
    "    return np.abs(matmul(kwargs['state'].conj().T, matmul(unitOp, kwargs['state']))) / \\\n",
    "           sum(np.abs(kwargs['state']) ** 2)\n",
    "           \n",
    "\n",
    "def meanStateFidelity(t, STEPS=1, SHOTS=1000):\n",
    "    '''\n",
    "    mean state fidelity\n",
    "    '''\n",
    "    return sum(stateFidelity(t, STEPS=STEPS, excInts=np.random.random(3), field=np.random.random(3), \\\n",
    "               state=np.random.random(4)) for _ in range(SHOTS))/SHOTS\n",
    "\n",
    "def ensembleFidelity(t, STEPS=1, **kwargs):\n",
    "    '''\n",
    "    ensemble fidelity\n",
    "    '''\n",
    "    tot = totalUnitary(t=t, STEPS=STEPS, excInts=kwargs['excInts'], field=kwargs['field'])\n",
    "    exact = exactUnitary(t=t, STEPS=STEPS, excInts=kwargs['excInts'], field=kwargs['field'])\n",
    "\n",
    "    rho = matmul(tot,matmul(kwargs['densityMat'],tot.conj().T))\n",
    "    sigma = matmul(exact,matmul(kwargs['densityMat'],exact.conj().T))\n",
    "    \n",
    "    rhoPow = sqrtm(rho)\n",
    "    return trace(sqrtm(matmul(rhoPow, matmul(sigma, rhoPow))))**2\n",
    "\n",
    "def meanEnsembleFidelity(t, STEPS=1, SHOTS=1000, **kwargs):\n",
    "    '''\n",
    "    mean ensemble fidelity\n",
    "    '''\n",
    "    return sum(ensembleFidelity(t, STEPS=STEPS, excInts=np.random.random(3), field=np.random.random(3),\n",
    "            densityMat=kwargs['densityMat']) for _ in range(SHOTS))/SHOTS\n"
   ],
   "outputs": [],
   "metadata": {}
  },
  {
   "cell_type": "code",
   "execution_count": 39,
   "source": [
    "J = np.array([1,1,1])\n",
    "H = np.array([1,1,1])\n",
    "t = 1\n",
    "STEPS = 40\n",
    "print(np.abs(exactUnitary(t, excInts=J, field=H)))\n",
    "print(np.abs(totalUnitary(t, STEPS=STEPS, excInts=J, field=H)))\n",
    "print(frobDistance(t, STEPS=STEPS, excInts=J, field=H))"
   ],
   "outputs": [
    {
     "output_type": "stream",
     "name": "stdout",
     "text": [
      "[[0.65356525 0.11676239 0.11676239 0.64364361]\n",
      " [0.35931438 0.45376032 0.61328747 0.80330828]\n",
      " [0.35931438 0.61328747 0.45376032 0.80330828]\n",
      " [1.37726077 0.82283403 0.82283403 0.28758093]]\n",
      "[[0.64435414 0.10934825 0.10934825 0.64365611]\n",
      " [0.35261612 0.45990672 0.60445057 0.8085633 ]\n",
      " [0.35261612 0.60445057 0.45990672 0.8085633 ]\n",
      " [1.3821975  0.81890197 0.81890197 0.29766143]]\n",
      "0.04088099284579252\n"
     ]
    }
   ],
   "metadata": {}
  },
  {
   "cell_type": "code",
   "execution_count": 42,
   "source": [
    "steps_array = np.fromiter(range(4,STEPS+1), dtype='int')\n",
    "frob_errors = np.array([meanFrobDistance(t, STEPS=steps, SHOTS=500) for steps in steps_array])"
   ],
   "outputs": [],
   "metadata": {
    "tags": []
   }
  },
  {
   "cell_type": "code",
   "execution_count": 43,
   "source": [
    "plt.title('Mean Frobenius Error')\n",
    "plt.ylabel('Frobenius error')\n",
    "plt.yscale('log')\n",
    "plt.xlabel('Steps')\n",
    "plt.xscale('log')\n",
    "plt.scatter(steps_array, frob_errors)\n",
    "plt.show()"
   ],
   "outputs": [
    {
     "output_type": "display_data",
     "data": {
      "text/plain": [
       "<Figure size 432x288 with 1 Axes>"
      ],
      "image/png": "[encoded data removed]"
     },
     "metadata": {
      "needs_background": "light"
     }
    }
   ],
   "metadata": {}
  },
  {
   "cell_type": "code",
   "execution_count": 68,
   "source": [
    "X = np.log(steps_array)\n",
    "Y = np.log(frob_errors)\n",
    "exponent, const = np.polyfit(X, Y, 1)\n",
    "print(exponent)"
   ],
   "outputs": [
    {
     "output_type": "stream",
     "name": "stdout",
     "text": [
      "-1.0064327256424568\n"
     ]
    }
   ],
   "metadata": {}
  },
  {
   "cell_type": "code",
   "execution_count": 9,
   "source": [
    "fidelities = np.array([meanStateFidelity(t, STEPS=steps, SHOTS=500) for steps in steps_array])"
   ],
   "outputs": [],
   "metadata": {}
  },
  {
   "cell_type": "code",
   "execution_count": 10,
   "source": [
    "plt.clf()\n",
    "plt.title('Mean State fidelities')\n",
    "plt.ylabel('State fidelity')\n",
    "plt.yscale('log')\n",
    "plt.xlabel('Steps')\n",
    "plt.xscale('log')\n",
    "plt.scatter(steps_array, fidelities)\n",
    "plt.show()"
   ],
   "outputs": [
    {
     "output_type": "display_data",
     "data": {
      "text/plain": [
       "<Figure size 432x288 with 1 Axes>"
      ],
      "image/png": "[encoded data removed]"
     },
     "metadata": {
      "needs_background": "light"
     }
    }
   ],
   "metadata": {}
  },
  {
   "cell_type": "code",
   "execution_count": 62,
   "source": [
    "density = np.array([\n",
    "    [1, 0, 0, 0],\n",
    "    [0, 1, 0, 0],\n",
    "    [0, 0, 1, 0],\n",
    "    [0, 0, 0, 1]\n",
    "])\n",
    "ensemble_errors = np.array(\n",
    "    [meanEnsembleFidelity(t, STEPS=steps, SHOTS=500, densityMat=density) for steps in steps_array])\n"
   ],
   "outputs": [],
   "metadata": {}
  },
  {
   "cell_type": "code",
   "execution_count": 63,
   "source": [
    "plt.clf()\n",
    "plt.title('Mean Density fidelities')\n",
    "plt.ylabel('State fidelity')\n",
    "plt.yscale('log')\n",
    "plt.xlabel('Steps')\n",
    "plt.xscale('log')\n",
    "plt.scatter(steps_array, ensemble_errors)\n",
    "plt.show()\n"
   ],
   "outputs": [
    {
     "output_type": "display_data",
     "data": {
      "text/plain": [
       "<Figure size 432x288 with 1 Axes>"
      ],
      "image/png": "[encoded data removed]"
     },
     "metadata": {
      "needs_background": "light"
     }
    }
   ],
   "metadata": {}
  },
  {
   "cell_type": "code",
   "execution_count": 11,
   "source": [
    "import sympy as sym\n",
    "sym.init_printing()\n",
    "phi1 = sym.Symbol('phi_1', real=True)\n",
    "phi2 = sym.Symbol('phi_2', real=True)\n",
    "phi3 = sym.Symbol('phi_3', real=True)"
   ],
   "outputs": [],
   "metadata": {}
  },
  {
   "cell_type": "code",
   "execution_count": 28,
   "source": [
    "a = sym.cos(phi1)\n",
    "b = sym.sin(phi1) * sym.cos(phi2)\n",
    "c = sym.sin(phi1) * sym.sin(phi1) * sym.cos(phi3)\n",
    "d = sym.sin(phi1) * sym.sin(phi2) * sym.sin(phi3)\n",
    "dS = sym.sin(phi1)**2 * sym.sin(phi2)\n",
    "coefs = [a, b, c, d]\n"
   ],
   "outputs": [],
   "metadata": {}
  },
  {
   "cell_type": "code",
   "execution_count": 29,
   "source": [
    "singleStateDensity = 1/(2 * sym.pi**2) * sym.Matrix([\n",
    "    [c1 * c2 for c2 in coefs]\n",
    "    for c1 in coefs\n",
    "])\n",
    "realDensity = 1/(2 * sym.pi**2) * sym.Matrix([\n",
    "    [ sym.integrate(c1 * c2 * dS,\\\n",
    "        (phi1, 0, sym.pi),\\\n",
    "        (phi2, 0, sym.pi),\\\n",
    "        (phi3, 0, 2 * sym.pi)) for c2 in coefs ]\n",
    "    for c1 in coefs \n",
    "])\n",
    "display(sym.integrate(dS, (phi1, 0, sym.pi),\n",
    "        (phi2, 0, sym.pi),\n",
    "        (phi3, 0, 2 * sym.pi)))\n",
    "display(singleStateDensity)\n",
    "display(realDensity)\n"
   ],
   "outputs": [
    {
     "output_type": "display_data",
     "data": {
      "text/plain": [
       "   2\n",
       "2⋅π "
      ],
      "image/png": "[encoded data removed]",
      "text/latex": [
       "$\\displaystyle 2 \\pi^{2}$"
      ]
     },
     "metadata": {}
    },
    {
     "output_type": "display_data",
     "data": {
      "text/plain": [
       "⎡              2                                                           2  \n",
       "⎢           cos (φ₁)                  sin(φ₁)⋅cos(φ₁)⋅cos(φ₂)           sin (φ\n",
       "⎢           ────────                  ───────────────────────           ──────\n",
       "⎢                2                                 2                          \n",
       "⎢             2⋅π                               2⋅π                           \n",
       "⎢                                                                             \n",
       "⎢                                           2        2                     3  \n",
       "⎢    sin(φ₁)⋅cos(φ₁)⋅cos(φ₂)             sin (φ₁)⋅cos (φ₂)              sin (φ\n",
       "⎢    ───────────────────────             ─────────────────              ──────\n",
       "⎢                 2                                2                          \n",
       "⎢              2⋅π                              2⋅π                           \n",
       "⎢                                                                             \n",
       "⎢      2                                 3                                    \n",
       "⎢   sin (φ₁)⋅cos(φ₁)⋅cos(φ₃)          sin (φ₁)⋅cos(φ₂)⋅cos(φ₃)             sin\n",
       "⎢   ────────────────────────          ────────────────────────             ───\n",
       "⎢                2                                 2                          \n",
       "⎢             2⋅π                               2⋅π                           \n",
       "⎢                                                                             \n",
       "⎢                                    2                                 3      \n",
       "⎢sin(φ₁)⋅sin(φ₂)⋅sin(φ₃)⋅cos(φ₁)  sin (φ₁)⋅sin(φ₂)⋅sin(φ₃)⋅cos(φ₂)  sin (φ₁)⋅s\n",
       "⎢───────────────────────────────  ────────────────────────────────  ──────────\n",
       "⎢                 2                                2                          \n",
       "⎣              2⋅π                              2⋅π                           \n",
       "\n",
       "                                                        ⎤\n",
       "₁)⋅cos(φ₁)⋅cos(φ₃)      sin(φ₁)⋅sin(φ₂)⋅sin(φ₃)⋅cos(φ₁) ⎥\n",
       "──────────────────      ─────────────────────────────── ⎥\n",
       "       2                                 2              ⎥\n",
       "    2⋅π                               2⋅π               ⎥\n",
       "                                                        ⎥\n",
       "                           2                            ⎥\n",
       "₁)⋅cos(φ₂)⋅cos(φ₃)      sin (φ₁)⋅sin(φ₂)⋅sin(φ₃)⋅cos(φ₂)⎥\n",
       "──────────────────      ────────────────────────────────⎥\n",
       "       2                                 2              ⎥\n",
       "    2⋅π                               2⋅π               ⎥\n",
       "                                                        ⎥\n",
       "4        2                 3                            ⎥\n",
       " (φ₁)⋅cos (φ₃)          sin (φ₁)⋅sin(φ₂)⋅sin(φ₃)⋅cos(φ₃)⎥\n",
       "──────────────          ────────────────────────────────⎥\n",
       "       2                                 2              ⎥\n",
       "    2⋅π                               2⋅π               ⎥\n",
       "                                                        ⎥\n",
       "                              2        2        2       ⎥\n",
       "in(φ₂)⋅sin(φ₃)⋅cos(φ₃)     sin (φ₁)⋅sin (φ₂)⋅sin (φ₃)   ⎥\n",
       "──────────────────────     ──────────────────────────   ⎥\n",
       "       2                                 2              ⎥\n",
       "    2⋅π                               2⋅π               ⎦"
      ],
      "image/png": "[encoded data removed]",
      "text/latex": [
       "$\\displaystyle \\left[\\begin{matrix}\\frac{\\cos^{2}{\\left(\\phi_{1} \\right)}}{2 \\pi^{2}} & \\frac{\\sin{\\left(\\phi_{1} \\right)} \\cos{\\left(\\phi_{1} \\right)} \\cos{\\left(\\phi_{2} \\right)}}{2 \\pi^{2}} & \\frac{\\sin^{2}{\\left(\\phi_{1} \\right)} \\cos{\\left(\\phi_{1} \\right)} \\cos{\\left(\\phi_{3} \\right)}}{2 \\pi^{2}} & \\frac{\\sin{\\left(\\phi_{1} \\right)} \\sin{\\left(\\phi_{2} \\right)} \\sin{\\left(\\phi_{3} \\right)} \\cos{\\left(\\phi_{1} \\right)}}{2 \\pi^{2}}\\\\\\frac{\\sin{\\left(\\phi_{1} \\right)} \\cos{\\left(\\phi_{1} \\right)} \\cos{\\left(\\phi_{2} \\right)}}{2 \\pi^{2}} & \\frac{\\sin^{2}{\\left(\\phi_{1} \\right)} \\cos^{2}{\\left(\\phi_{2} \\right)}}{2 \\pi^{2}} & \\frac{\\sin^{3}{\\left(\\phi_{1} \\right)} \\cos{\\left(\\phi_{2} \\right)} \\cos{\\left(\\phi_{3} \\right)}}{2 \\pi^{2}} & \\frac{\\sin^{2}{\\left(\\phi_{1} \\right)} \\sin{\\left(\\phi_{2} \\right)} \\sin{\\left(\\phi_{3} \\right)} \\cos{\\left(\\phi_{2} \\right)}}{2 \\pi^{2}}\\\\\\frac{\\sin^{2}{\\left(\\phi_{1} \\right)} \\cos{\\left(\\phi_{1} \\right)} \\cos{\\left(\\phi_{3} \\right)}}{2 \\pi^{2}} & \\frac{\\sin^{3}{\\left(\\phi_{1} \\right)} \\cos{\\left(\\phi_{2} \\right)} \\cos{\\left(\\phi_{3} \\right)}}{2 \\pi^{2}} & \\frac{\\sin^{4}{\\left(\\phi_{1} \\right)} \\cos^{2}{\\left(\\phi_{3} \\right)}}{2 \\pi^{2}} & \\frac{\\sin^{3}{\\left(\\phi_{1} \\right)} \\sin{\\left(\\phi_{2} \\right)} \\sin{\\left(\\phi_{3} \\right)} \\cos{\\left(\\phi_{3} \\right)}}{2 \\pi^{2}}\\\\\\frac{\\sin{\\left(\\phi_{1} \\right)} \\sin{\\left(\\phi_{2} \\right)} \\sin{\\left(\\phi_{3} \\right)} \\cos{\\left(\\phi_{1} \\right)}}{2 \\pi^{2}} & \\frac{\\sin^{2}{\\left(\\phi_{1} \\right)} \\sin{\\left(\\phi_{2} \\right)} \\sin{\\left(\\phi_{3} \\right)} \\cos{\\left(\\phi_{2} \\right)}}{2 \\pi^{2}} & \\frac{\\sin^{3}{\\left(\\phi_{1} \\right)} \\sin{\\left(\\phi_{2} \\right)} \\sin{\\left(\\phi_{3} \\right)} \\cos{\\left(\\phi_{3} \\right)}}{2 \\pi^{2}} & \\frac{\\sin^{2}{\\left(\\phi_{1} \\right)} \\sin^{2}{\\left(\\phi_{2} \\right)} \\sin^{2}{\\left(\\phi_{3} \\right)}}{2 \\pi^{2}}\\end{matrix}\\right]$"
      ]
     },
     "metadata": {}
    },
    {
     "output_type": "display_data",
     "data": {
      "text/plain": [
       "⎡1/4   0    0     0 ⎤\n",
       "⎢                   ⎥\n",
       "⎢ 0   1/4   0     0 ⎥\n",
       "⎢                   ⎥\n",
       "⎢ 0    0   5/16   0 ⎥\n",
       "⎢                   ⎥\n",
       "⎣ 0    0    0    1/4⎦"
      ],
      "image/png": "[encoded data removed]",
      "text/latex": [
       "$\\displaystyle \\left[\\begin{matrix}\\frac{1}{4} & 0 & 0 & 0\\\\0 & \\frac{1}{4} & 0 & 0\\\\0 & 0 & \\frac{5}{16} & 0\\\\0 & 0 & 0 & \\frac{1}{4}\\end{matrix}\\right]$"
      ]
     },
     "metadata": {}
    }
   ],
   "metadata": {}
  },
  {
   "cell_type": "code",
   "execution_count": null,
   "source": [],
   "outputs": [],
   "metadata": {}
  }
 ],
 "metadata": {
  "interpreter": {
   "hash": "951430ee3957f34eb9f5ffe9939987422287d4c44e0028512019f24e4cfe00b9"
  },
  "kernelspec": {
   "display_name": "Python 3.8.8 64-bit ('QML': conda)",
   "name": "python3"
  },
  "language_info": {
   "codemirror_mode": {
    "name": "ipython",
    "version": 3
   },
   "file_extension": ".py",
   "mimetype": "text/x-python",
   "name": "python",
   "nbconvert_exporter": "python",
   "pygments_lexer": "ipython3",
   "version": "3.8.8"
  },
  "orig_nbformat": 4
 },
 "nbformat": 4,
 "nbformat_minor": 2
}