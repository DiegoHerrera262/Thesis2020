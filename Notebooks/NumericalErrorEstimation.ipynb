{
 "metadata": {
  "language_info": {
   "codemirror_mode": {
    "name": "ipython",
    "version": 3
   },
   "file_extension": ".py",
   "mimetype": "text/x-python",
   "name": "python",
   "nbconvert_exporter": "python",
   "pygments_lexer": "ipython3",
   "version": "3.8.8"
  },
  "orig_nbformat": 4,
  "kernelspec": {
   "name": "python3",
   "display_name": "Python 3.8.8 64-bit ('QML': conda)"
  },
  "interpreter": {
   "hash": "951430ee3957f34eb9f5ffe9939987422287d4c44e0028512019f24e4cfe00b9"
  }
 },
 "nbformat": 4,
 "nbformat_minor": 2,
 "cells": [
  {
   "cell_type": "code",
   "execution_count": 6,
   "metadata": {},
   "outputs": [],
   "source": [
    "import numpy as np\n",
    "import matplotlib.pyplot as plt\n",
    "from scipy.linalg import expm\n",
    "from numpy import matmul\n",
    "from numpy.linalg import matrix_power, norm"
   ]
  },
  {
   "cell_type": "code",
   "execution_count": 2,
   "metadata": {},
   "outputs": [],
   "source": [
    "Pauli0 = np.array([\n",
    "    [1,0],\n",
    "    [0,1]\n",
    "])\n",
    "PauliX = np.array([\n",
    "    [0,1],\n",
    "    [1,0]\n",
    "])\n",
    "PauliY = np.array([\n",
    "    [0,-1j],\n",
    "    [1j,0]\n",
    "])\n",
    "PauliZ = np.array([\n",
    "    [1,0],\n",
    "    [1,-1]\n",
    "])"
   ]
  },
  {
   "cell_type": "code",
   "execution_count": 3,
   "metadata": {},
   "outputs": [],
   "source": [
    "def spinHamiltonian(J = np.array([1,1,1])):\n",
    "    '''\n",
    "    funtion for retrieving\n",
    "    spin-spin interaction\n",
    "    Hamiltonian\n",
    "    '''\n",
    "    return J[0] * np.kron(PauliX, PauliX) + \\\n",
    "           J[1] * np.kron(PauliY, PauliY) + \\\n",
    "           J[2] * np.kron(PauliZ, PauliZ)\n",
    "\n",
    "def fieldHamiltonian(H = np.array([1,1,1])):\n",
    "    '''\n",
    "    function for retrieving\n",
    "    field interaction\n",
    "    Hamiltonian\n",
    "    '''\n",
    "    return H[0] * (np.kron(PauliX, Pauli0) + np.kron(Pauli0, PauliX)) + \\\n",
    "           H[1] * (np.kron(PauliY, Pauli0) + np.kron(Pauli0, PauliY)) + \\\n",
    "           H[2] * (np.kron(PauliZ, Pauli0) + np.kron(Pauli0, PauliZ))\n",
    "\n",
    "def totalHamiltonian(excInts = np.array([1,1,1]), field = np.array([1,1,1])):\n",
    "    '''\n",
    "    function for retrieving\n",
    "    total hamiltonian\n",
    "    '''\n",
    "    return spinHamiltonian(excInts) + fieldHamiltonian(field)"
   ]
  },
  {
   "cell_type": "code",
   "execution_count": 72,
   "metadata": {},
   "outputs": [],
   "source": [
    "def exactUnitary(t, **kwargs):\n",
    "    '''\n",
    "    function for retrieving\n",
    "    exact evolution op\n",
    "    '''\n",
    "    return expm(-1j * t * totalHamiltonian(kwargs['excInts'], kwargs['field']))\n",
    "\n",
    "def totalUnitary(t, STEPS=1, **kwargs):\n",
    "    '''\n",
    "    funcion for retrieving\n",
    "    total evolution op\n",
    "    '''\n",
    "    dt = t / STEPS\n",
    "    timeSlice = matmul(expm(-1j * dt * spinHamiltonian(kwargs['excInts'])) , \\\n",
    "                expm(-1j * dt * fieldHamiltonian(kwargs['field'])))\n",
    "    # timeSlice = matmul(expm(-1j * dt/2 * spinHamiltonian(kwargs['excInts'])) , \\\n",
    "    #             matmul(expm(-1j * dt * fieldHamiltonian(kwargs['field'])), \\\n",
    "    #                    expm(-1j * dt/2 * spinHamiltonian(kwargs['excInts']))))\n",
    "    return matrix_power(timeSlice, STEPS)\n",
    "\n",
    "def frobDistance(t, STEPS=1, **kwargs):\n",
    "    '''\n",
    "    Error estimation using\n",
    "    frobenius distance\n",
    "    '''\n",
    "    return norm(totalUnitary(t=t, STEPS=STEPS, excInts=kwargs['excInts'], field=kwargs['field']) - \\\n",
    "                exactUnitary(t=t, excInts=kwargs['excInts'], field=kwargs['field']))\n",
    "\n",
    "def meanFrobDistance(t, STEPS=1, SHOTS=1000):\n",
    "    '''\n",
    "    Mean error under field and exchange\n",
    "    integrals\n",
    "    '''\n",
    "    return sum(frobDistance(t, STEPS=STEPS, excInts=np.random.random(3), field=np.random.random(3)) \\\n",
    "                  for _ in range(SHOTS)) / SHOTS\n",
    "\n",
    "def stateFidelity(t, STEPS=1, **kwargs):\n",
    "    '''\n",
    "    State fidelity of ST\n",
    "    evolution\n",
    "    '''\n",
    "    unitOp = matmul(totalUnitary(t=t, STEPS=STEPS, excInts=kwargs['excInts'], field=kwargs['field']).conj().T,\n",
    "                    exactUnitary(t=t, excInts=kwargs['excInts'], field=kwargs['field']))\n",
    "    return np.abs(matmul(kwargs['state'].conj().T, matmul(unitOp, kwargs['state']))) / \\\n",
    "           sum(np.abs(kwargs['state']) ** 2)\n",
    "           \n",
    "\n",
    "def meanStateFidelity(t, STEPS=1, SHOTS=1000):\n",
    "    '''\n",
    "    mean state fidelity\n",
    "    '''\n",
    "    return sum(stateFidelity(t, STEPS=STEPS, excInts=np.random.random(3), field=np.random.random(3), \\\n",
    "               state=np.random.random(4)) for _ in range(SHOTS))/SHOTS"
   ]
  },
  {
   "cell_type": "code",
   "execution_count": 63,
   "metadata": {},
   "outputs": [
    {
     "output_type": "stream",
     "name": "stdout",
     "text": [
      "[[0.65356525 0.11676239 0.11676239 0.64364361]\n [0.35931438 0.45376032 0.61328747 0.80330828]\n [0.35931438 0.61328747 0.45376032 0.80330828]\n [1.37726077 0.82283403 0.82283403 0.28758093]]\n[[0.64435414 0.10934825 0.10934825 0.64365611]\n [0.35261612 0.45990672 0.60445057 0.8085633 ]\n [0.35261612 0.60445057 0.45990672 0.8085633 ]\n [1.3821975  0.81890197 0.81890197 0.29766143]]\n0.04088099284579252\n"
     ]
    }
   ],
   "source": [
    "J = np.array([1,1,1])\n",
    "H = np.array([1,1,1])\n",
    "t = 1\n",
    "STEPS = 40\n",
    "print(np.abs(exactUnitary(t, excInts=J, field=H)))\n",
    "print(np.abs(totalUnitary(t, STEPS=STEPS, excInts=J, field=H)))\n",
    "print(frobDistance(t, STEPS=STEPS, excInts=J, field=H))"
   ]
  },
  {
   "cell_type": "code",
   "execution_count": 66,
   "metadata": {
    "tags": []
   },
   "outputs": [],
   "source": [
    "steps_array = np.fromiter(range(4,STEPS+1), dtype='int')\n",
    "frob_errors = np.array([meanFrobDistance(t, STEPS=steps, SHOTS=500) for steps in steps_array])"
   ]
  },
  {
   "cell_type": "code",
   "execution_count": 67,
   "metadata": {},
   "outputs": [
    {
     "output_type": "display_data",
     "data": {
      "text/plain": "<Figure size 432x288 with 1 Axes>",
      "image/svg+xml": "<?xml version=\"1.0\" encoding=\"utf-8\" standalone=\"no\"?>\n<!DOCTYPE svg PUBLIC \"-//W3C//DTD SVG 1.1//EN\"\n  \"http://www.w3.org/Graphics/SVG/1.1/DTD/svg11.dtd\">\n<svg height=\"277.314375pt\" version=\"1.1\" viewBox=\"0 0 393.378125 277.314375\" width=\"393.378125pt\" xmlns=\"http://www.w3.org/2000/svg\" xmlns:xlink=\"http://www.w3.org/1999/xlink\">\n <metadata>\n  <rdf:RDF xmlns:cc=\"http://creativecommons.org/ns#\" xmlns:dc=\"http://purl.org/dc/elements/1.1/\" xmlns:rdf=\"http://www.w3.org/1999/02/22-rdf-syntax-ns#\">\n   <cc:Work>\n    <dc:type rdf:resource=\"http://purl.org/dc/dcmitype/StillImage\"/>\n    <dc:date>2021-06-25T08:34:12.148709</dc:date>\n    <dc:format>image/svg+xml</dc:format>\n    <dc:creator>\n     <cc:Agent>\n      <dc:title>Matplotlib v3.4.1, https://matplotlib.org/</dc:title>\n     </cc:Agent>\n    </dc:creator>\n   </cc:Work>\n  </rdf:RDF>\n </metadata>\n <defs>\n  <style type=\"text/css\">*{stroke-linecap:butt;stroke-linejoin:round;}</style>\n </defs>\n <g id=\"figure_1\">\n  <g id=\"patch_1\">\n   <path d=\"M 0 277.314375 \nL 393.378125 277.314375 \nL 393.378125 0 \nL 0 0 \nz\n\" style=\"fill:none;\"/>\n  </g>\n  <g id=\"axes_1\">\n   <g id=\"patch_2\">\n    <path d=\"M 51.378125 239.758125 \nL 386.178125 239.758125 \nL 386.178125 22.318125 \nL 51.378125 22.318125 \nz\n\" style=\"fill:#ffffff;\"/>\n   </g>\n   <g id=\"PathCollection_1\">\n    <defs>\n     <path d=\"M 0 3 \nC 0.795609 3 1.55874 2.683901 2.12132 2.12132 \nC 2.683901 1.55874 3 0.795609 3 0 \nC 3 -0.795609 2.683901 -1.55874 2.12132 -2.12132 \nC 1.55874 -2.683901 0.795609 -3 0 -3 \nC -0.795609 -3 -1.55874 -2.683901 -2.12132 -2.12132 \nC -2.683901 -1.55874 -3 -0.795609 -3 0 \nC -3 0.795609 -2.683901 1.55874 -2.12132 2.12132 \nC -1.55874 2.683901 -0.795609 3 0 3 \nz\n\" id=\"m4db0e59f98\" style=\"stroke:#1f77b4;\"/>\n    </defs>\n    <g clip-path=\"url(#pc82f68148d)\">\n     <use style=\"fill:#1f77b4;stroke:#1f77b4;\" x=\"66.596307\" xlink:href=\"#m4db0e59f98\" y=\"32.201761\"/>\n     <use style=\"fill:#1f77b4;stroke:#1f77b4;\" x=\"96.092191\" xlink:href=\"#m4db0e59f98\" y=\"49.822185\"/>\n     <use style=\"fill:#1f77b4;stroke:#1f77b4;\" x=\"120.192083\" xlink:href=\"#m4db0e59f98\" y=\"65.814035\"/>\n     <use style=\"fill:#1f77b4;stroke:#1f77b4;\" x=\"140.568251\" xlink:href=\"#m4db0e59f98\" y=\"75.533773\"/>\n     <use style=\"fill:#1f77b4;stroke:#1f77b4;\" x=\"158.218891\" xlink:href=\"#m4db0e59f98\" y=\"92.443178\"/>\n     <use style=\"fill:#1f77b4;stroke:#1f77b4;\" x=\"173.787859\" xlink:href=\"#m4db0e59f98\" y=\"101.155989\"/>\n     <use style=\"fill:#1f77b4;stroke:#1f77b4;\" x=\"187.714775\" xlink:href=\"#m4db0e59f98\" y=\"110.746527\"/>\n     <use style=\"fill:#1f77b4;stroke:#1f77b4;\" x=\"200.313203\" xlink:href=\"#m4db0e59f98\" y=\"117.280505\"/>\n     <use style=\"fill:#1f77b4;stroke:#1f77b4;\" x=\"211.814667\" xlink:href=\"#m4db0e59f98\" y=\"125.010999\"/>\n     <use style=\"fill:#1f77b4;stroke:#1f77b4;\" x=\"222.394988\" xlink:href=\"#m4db0e59f98\" y=\"132.284922\"/>\n     <use style=\"fill:#1f77b4;stroke:#1f77b4;\" x=\"232.190835\" xlink:href=\"#m4db0e59f98\" y=\"140.13335\"/>\n     <use style=\"fill:#1f77b4;stroke:#1f77b4;\" x=\"241.310551\" xlink:href=\"#m4db0e59f98\" y=\"145.644133\"/>\n     <use style=\"fill:#1f77b4;stroke:#1f77b4;\" x=\"249.841475\" xlink:href=\"#m4db0e59f98\" y=\"150.890931\"/>\n     <use style=\"fill:#1f77b4;stroke:#1f77b4;\" x=\"257.855047\" xlink:href=\"#m4db0e59f98\" y=\"156.218143\"/>\n     <use style=\"fill:#1f77b4;stroke:#1f77b4;\" x=\"265.410443\" xlink:href=\"#m4db0e59f98\" y=\"161.957064\"/>\n     <use style=\"fill:#1f77b4;stroke:#1f77b4;\" x=\"272.557235\" xlink:href=\"#m4db0e59f98\" y=\"164.312736\"/>\n     <use style=\"fill:#1f77b4;stroke:#1f77b4;\" x=\"279.337359\" xlink:href=\"#m4db0e59f98\" y=\"171.2583\"/>\n     <use style=\"fill:#1f77b4;stroke:#1f77b4;\" x=\"285.786611\" xlink:href=\"#m4db0e59f98\" y=\"172.27127\"/>\n     <use style=\"fill:#1f77b4;stroke:#1f77b4;\" x=\"291.935787\" xlink:href=\"#m4db0e59f98\" y=\"179.305405\"/>\n     <use style=\"fill:#1f77b4;stroke:#1f77b4;\" x=\"297.811574\" xlink:href=\"#m4db0e59f98\" y=\"181.825223\"/>\n     <use style=\"fill:#1f77b4;stroke:#1f77b4;\" x=\"303.437251\" xlink:href=\"#m4db0e59f98\" y=\"186.770095\"/>\n     <use style=\"fill:#1f77b4;stroke:#1f77b4;\" x=\"308.833243\" xlink:href=\"#m4db0e59f98\" y=\"189.71972\"/>\n     <use style=\"fill:#1f77b4;stroke:#1f77b4;\" x=\"314.017572\" xlink:href=\"#m4db0e59f98\" y=\"190.10084\"/>\n     <use style=\"fill:#1f77b4;stroke:#1f77b4;\" x=\"319.006219\" xlink:href=\"#m4db0e59f98\" y=\"194.281226\"/>\n     <use style=\"fill:#1f77b4;stroke:#1f77b4;\" x=\"323.813419\" xlink:href=\"#m4db0e59f98\" y=\"195.644841\"/>\n     <use style=\"fill:#1f77b4;stroke:#1f77b4;\" x=\"328.451911\" xlink:href=\"#m4db0e59f98\" y=\"201.362746\"/>\n     <use style=\"fill:#1f77b4;stroke:#1f77b4;\" x=\"332.933135\" xlink:href=\"#m4db0e59f98\" y=\"205.397979\"/>\n     <use style=\"fill:#1f77b4;stroke:#1f77b4;\" x=\"337.267407\" xlink:href=\"#m4db0e59f98\" y=\"204.961655\"/>\n     <use style=\"fill:#1f77b4;stroke:#1f77b4;\" x=\"341.464059\" xlink:href=\"#m4db0e59f98\" y=\"205.984815\"/>\n     <use style=\"fill:#1f77b4;stroke:#1f77b4;\" x=\"345.531563\" xlink:href=\"#m4db0e59f98\" y=\"209.580805\"/>\n     <use style=\"fill:#1f77b4;stroke:#1f77b4;\" x=\"349.477631\" xlink:href=\"#m4db0e59f98\" y=\"214.176805\"/>\n     <use style=\"fill:#1f77b4;stroke:#1f77b4;\" x=\"353.309303\" xlink:href=\"#m4db0e59f98\" y=\"217.462526\"/>\n     <use style=\"fill:#1f77b4;stroke:#1f77b4;\" x=\"357.033027\" xlink:href=\"#m4db0e59f98\" y=\"218.445048\"/>\n     <use style=\"fill:#1f77b4;stroke:#1f77b4;\" x=\"360.654718\" xlink:href=\"#m4db0e59f98\" y=\"219.050924\"/>\n     <use style=\"fill:#1f77b4;stroke:#1f77b4;\" x=\"364.179819\" xlink:href=\"#m4db0e59f98\" y=\"223.357746\"/>\n     <use style=\"fill:#1f77b4;stroke:#1f77b4;\" x=\"367.613348\" xlink:href=\"#m4db0e59f98\" y=\"227.209625\"/>\n     <use style=\"fill:#1f77b4;stroke:#1f77b4;\" x=\"370.959943\" xlink:href=\"#m4db0e59f98\" y=\"229.874489\"/>\n    </g>\n   </g>\n   <g id=\"matplotlib.axis_1\">\n    <g id=\"xtick_1\">\n     <g id=\"line2d_1\">\n      <defs>\n       <path d=\"M 0 0 \nL 0 3.5 \n\" id=\"m74d374c7be\" style=\"stroke:#000000;stroke-width:0.8;\"/>\n      </defs>\n      <g>\n       <use style=\"stroke:#000000;stroke-width:0.8;\" x=\"187.714775\" xlink:href=\"#m74d374c7be\" y=\"239.758125\"/>\n      </g>\n     </g>\n     <g id=\"text_1\">\n      <!-- $\\mathdefault{10^{1}}$ -->\n      <g transform=\"translate(178.914775 254.356562)scale(0.1 -0.1)\">\n       <defs>\n        <path d=\"M 794 531 \nL 1825 531 \nL 1825 4091 \nL 703 3866 \nL 703 4441 \nL 1819 4666 \nL 2450 4666 \nL 2450 531 \nL 3481 531 \nL 3481 0 \nL 794 0 \nL 794 531 \nz\n\" id=\"DejaVuSans-31\" transform=\"scale(0.015625)\"/>\n        <path d=\"M 2034 4250 \nQ 1547 4250 1301 3770 \nQ 1056 3291 1056 2328 \nQ 1056 1369 1301 889 \nQ 1547 409 2034 409 \nQ 2525 409 2770 889 \nQ 3016 1369 3016 2328 \nQ 3016 3291 2770 3770 \nQ 2525 4250 2034 4250 \nz\nM 2034 4750 \nQ 2819 4750 3233 4129 \nQ 3647 3509 3647 2328 \nQ 3647 1150 3233 529 \nQ 2819 -91 2034 -91 \nQ 1250 -91 836 529 \nQ 422 1150 422 2328 \nQ 422 3509 836 4129 \nQ 1250 4750 2034 4750 \nz\n\" id=\"DejaVuSans-30\" transform=\"scale(0.015625)\"/>\n       </defs>\n       <use transform=\"translate(0 0.684375)\" xlink:href=\"#DejaVuSans-31\"/>\n       <use transform=\"translate(63.623047 0.684375)\" xlink:href=\"#DejaVuSans-30\"/>\n       <use transform=\"translate(128.203125 38.965625)scale(0.7)\" xlink:href=\"#DejaVuSans-31\"/>\n      </g>\n     </g>\n    </g>\n    <g id=\"xtick_2\">\n     <g id=\"line2d_2\">\n      <defs>\n       <path d=\"M 0 0 \nL 0 2 \n\" id=\"mdd1fe810f2\" style=\"stroke:#000000;stroke-width:0.6;\"/>\n      </defs>\n      <g>\n       <use style=\"stroke:#000000;stroke-width:0.6;\" x=\"66.596307\" xlink:href=\"#mdd1fe810f2\" y=\"239.758125\"/>\n      </g>\n     </g>\n    </g>\n    <g id=\"xtick_3\">\n     <g id=\"line2d_3\">\n      <g>\n       <use style=\"stroke:#000000;stroke-width:0.6;\" x=\"96.092191\" xlink:href=\"#mdd1fe810f2\" y=\"239.758125\"/>\n      </g>\n     </g>\n    </g>\n    <g id=\"xtick_4\">\n     <g id=\"line2d_4\">\n      <g>\n       <use style=\"stroke:#000000;stroke-width:0.6;\" x=\"120.192083\" xlink:href=\"#mdd1fe810f2\" y=\"239.758125\"/>\n      </g>\n     </g>\n    </g>\n    <g id=\"xtick_5\">\n     <g id=\"line2d_5\">\n      <g>\n       <use style=\"stroke:#000000;stroke-width:0.6;\" x=\"140.568251\" xlink:href=\"#mdd1fe810f2\" y=\"239.758125\"/>\n      </g>\n     </g>\n    </g>\n    <g id=\"xtick_6\">\n     <g id=\"line2d_6\">\n      <g>\n       <use style=\"stroke:#000000;stroke-width:0.6;\" x=\"158.218891\" xlink:href=\"#mdd1fe810f2\" y=\"239.758125\"/>\n      </g>\n     </g>\n    </g>\n    <g id=\"xtick_7\">\n     <g id=\"line2d_7\">\n      <g>\n       <use style=\"stroke:#000000;stroke-width:0.6;\" x=\"173.787859\" xlink:href=\"#mdd1fe810f2\" y=\"239.758125\"/>\n      </g>\n     </g>\n    </g>\n    <g id=\"xtick_8\">\n     <g id=\"line2d_8\">\n      <g>\n       <use style=\"stroke:#000000;stroke-width:0.6;\" x=\"279.337359\" xlink:href=\"#mdd1fe810f2\" y=\"239.758125\"/>\n      </g>\n     </g>\n    </g>\n    <g id=\"xtick_9\">\n     <g id=\"line2d_9\">\n      <g>\n       <use style=\"stroke:#000000;stroke-width:0.6;\" x=\"332.933135\" xlink:href=\"#mdd1fe810f2\" y=\"239.758125\"/>\n      </g>\n     </g>\n    </g>\n    <g id=\"xtick_10\">\n     <g id=\"line2d_10\">\n      <g>\n       <use style=\"stroke:#000000;stroke-width:0.6;\" x=\"370.959943\" xlink:href=\"#mdd1fe810f2\" y=\"239.758125\"/>\n      </g>\n     </g>\n    </g>\n    <g id=\"text_2\">\n     <!-- Steps -->\n     <g transform=\"translate(204.788281 268.034687)scale(0.1 -0.1)\">\n      <defs>\n       <path d=\"M 3425 4513 \nL 3425 3897 \nQ 3066 4069 2747 4153 \nQ 2428 4238 2131 4238 \nQ 1616 4238 1336 4038 \nQ 1056 3838 1056 3469 \nQ 1056 3159 1242 3001 \nQ 1428 2844 1947 2747 \nL 2328 2669 \nQ 3034 2534 3370 2195 \nQ 3706 1856 3706 1288 \nQ 3706 609 3251 259 \nQ 2797 -91 1919 -91 \nQ 1588 -91 1214 -16 \nQ 841 59 441 206 \nL 441 856 \nQ 825 641 1194 531 \nQ 1563 422 1919 422 \nQ 2459 422 2753 634 \nQ 3047 847 3047 1241 \nQ 3047 1584 2836 1778 \nQ 2625 1972 2144 2069 \nL 1759 2144 \nQ 1053 2284 737 2584 \nQ 422 2884 422 3419 \nQ 422 4038 858 4394 \nQ 1294 4750 2059 4750 \nQ 2388 4750 2728 4690 \nQ 3069 4631 3425 4513 \nz\n\" id=\"DejaVuSans-53\" transform=\"scale(0.015625)\"/>\n       <path d=\"M 1172 4494 \nL 1172 3500 \nL 2356 3500 \nL 2356 3053 \nL 1172 3053 \nL 1172 1153 \nQ 1172 725 1289 603 \nQ 1406 481 1766 481 \nL 2356 481 \nL 2356 0 \nL 1766 0 \nQ 1100 0 847 248 \nQ 594 497 594 1153 \nL 594 3053 \nL 172 3053 \nL 172 3500 \nL 594 3500 \nL 594 4494 \nL 1172 4494 \nz\n\" id=\"DejaVuSans-74\" transform=\"scale(0.015625)\"/>\n       <path d=\"M 3597 1894 \nL 3597 1613 \nL 953 1613 \nQ 991 1019 1311 708 \nQ 1631 397 2203 397 \nQ 2534 397 2845 478 \nQ 3156 559 3463 722 \nL 3463 178 \nQ 3153 47 2828 -22 \nQ 2503 -91 2169 -91 \nQ 1331 -91 842 396 \nQ 353 884 353 1716 \nQ 353 2575 817 3079 \nQ 1281 3584 2069 3584 \nQ 2775 3584 3186 3129 \nQ 3597 2675 3597 1894 \nz\nM 3022 2063 \nQ 3016 2534 2758 2815 \nQ 2500 3097 2075 3097 \nQ 1594 3097 1305 2825 \nQ 1016 2553 972 2059 \nL 3022 2063 \nz\n\" id=\"DejaVuSans-65\" transform=\"scale(0.015625)\"/>\n       <path d=\"M 1159 525 \nL 1159 -1331 \nL 581 -1331 \nL 581 3500 \nL 1159 3500 \nL 1159 2969 \nQ 1341 3281 1617 3432 \nQ 1894 3584 2278 3584 \nQ 2916 3584 3314 3078 \nQ 3713 2572 3713 1747 \nQ 3713 922 3314 415 \nQ 2916 -91 2278 -91 \nQ 1894 -91 1617 61 \nQ 1341 213 1159 525 \nz\nM 3116 1747 \nQ 3116 2381 2855 2742 \nQ 2594 3103 2138 3103 \nQ 1681 3103 1420 2742 \nQ 1159 2381 1159 1747 \nQ 1159 1113 1420 752 \nQ 1681 391 2138 391 \nQ 2594 391 2855 752 \nQ 3116 1113 3116 1747 \nz\n\" id=\"DejaVuSans-70\" transform=\"scale(0.015625)\"/>\n       <path d=\"M 2834 3397 \nL 2834 2853 \nQ 2591 2978 2328 3040 \nQ 2066 3103 1784 3103 \nQ 1356 3103 1142 2972 \nQ 928 2841 928 2578 \nQ 928 2378 1081 2264 \nQ 1234 2150 1697 2047 \nL 1894 2003 \nQ 2506 1872 2764 1633 \nQ 3022 1394 3022 966 \nQ 3022 478 2636 193 \nQ 2250 -91 1575 -91 \nQ 1294 -91 989 -36 \nQ 684 19 347 128 \nL 347 722 \nQ 666 556 975 473 \nQ 1284 391 1588 391 \nQ 1994 391 2212 530 \nQ 2431 669 2431 922 \nQ 2431 1156 2273 1281 \nQ 2116 1406 1581 1522 \nL 1381 1569 \nQ 847 1681 609 1914 \nQ 372 2147 372 2553 \nQ 372 3047 722 3315 \nQ 1072 3584 1716 3584 \nQ 2034 3584 2315 3537 \nQ 2597 3491 2834 3397 \nz\n\" id=\"DejaVuSans-73\" transform=\"scale(0.015625)\"/>\n      </defs>\n      <use xlink:href=\"#DejaVuSans-53\"/>\n      <use x=\"63.476562\" xlink:href=\"#DejaVuSans-74\"/>\n      <use x=\"102.685547\" xlink:href=\"#DejaVuSans-65\"/>\n      <use x=\"164.208984\" xlink:href=\"#DejaVuSans-70\"/>\n      <use x=\"227.685547\" xlink:href=\"#DejaVuSans-73\"/>\n     </g>\n    </g>\n   </g>\n   <g id=\"matplotlib.axis_2\">\n    <g id=\"ytick_1\">\n     <g id=\"line2d_11\">\n      <defs>\n       <path d=\"M 0 0 \nL -3.5 0 \n\" id=\"m2ac7288c07\" style=\"stroke:#000000;stroke-width:0.8;\"/>\n      </defs>\n      <g>\n       <use style=\"stroke:#000000;stroke-width:0.8;\" x=\"51.378125\" xlink:href=\"#m2ac7288c07\" y=\"108.98797\"/>\n      </g>\n     </g>\n     <g id=\"text_3\">\n      <!-- $\\mathdefault{10^{-1}}$ -->\n      <g transform=\"translate(20.878125 112.787188)scale(0.1 -0.1)\">\n       <defs>\n        <path d=\"M 678 2272 \nL 4684 2272 \nL 4684 1741 \nL 678 1741 \nL 678 2272 \nz\n\" id=\"DejaVuSans-2212\" transform=\"scale(0.015625)\"/>\n       </defs>\n       <use transform=\"translate(0 0.684375)\" xlink:href=\"#DejaVuSans-31\"/>\n       <use transform=\"translate(63.623047 0.684375)\" xlink:href=\"#DejaVuSans-30\"/>\n       <use transform=\"translate(128.203125 38.965625)scale(0.7)\" xlink:href=\"#DejaVuSans-2212\"/>\n       <use transform=\"translate(186.855469 38.965625)scale(0.7)\" xlink:href=\"#DejaVuSans-31\"/>\n      </g>\n     </g>\n    </g>\n    <g id=\"ytick_2\">\n     <g id=\"line2d_12\">\n      <defs>\n       <path d=\"M 0 0 \nL -2 0 \n\" id=\"maae47ab6b2\" style=\"stroke:#000000;stroke-width:0.6;\"/>\n      </defs>\n      <g>\n       <use style=\"stroke:#000000;stroke-width:0.6;\" x=\"51.378125\" xlink:href=\"#maae47ab6b2\" y=\"211.060126\"/>\n      </g>\n     </g>\n    </g>\n    <g id=\"ytick_3\">\n     <g id=\"line2d_13\">\n      <g>\n       <use style=\"stroke:#000000;stroke-width:0.6;\" x=\"51.378125\" xlink:href=\"#maae47ab6b2\" y=\"186.670597\"/>\n      </g>\n     </g>\n    </g>\n    <g id=\"ytick_4\">\n     <g id=\"line2d_14\">\n      <g>\n       <use style=\"stroke:#000000;stroke-width:0.6;\" x=\"51.378125\" xlink:href=\"#maae47ab6b2\" y=\"167.752609\"/>\n      </g>\n     </g>\n    </g>\n    <g id=\"ytick_5\">\n     <g id=\"line2d_15\">\n      <g>\n       <use style=\"stroke:#000000;stroke-width:0.6;\" x=\"51.378125\" xlink:href=\"#maae47ab6b2\" y=\"152.295487\"/>\n      </g>\n     </g>\n    </g>\n    <g id=\"ytick_6\">\n     <g id=\"line2d_16\">\n      <g>\n       <use style=\"stroke:#000000;stroke-width:0.6;\" x=\"51.378125\" xlink:href=\"#maae47ab6b2\" y=\"139.226676\"/>\n      </g>\n     </g>\n    </g>\n    <g id=\"ytick_7\">\n     <g id=\"line2d_17\">\n      <g>\n       <use style=\"stroke:#000000;stroke-width:0.6;\" x=\"51.378125\" xlink:href=\"#maae47ab6b2\" y=\"127.905958\"/>\n      </g>\n     </g>\n    </g>\n    <g id=\"ytick_8\">\n     <g id=\"line2d_18\">\n      <g>\n       <use style=\"stroke:#000000;stroke-width:0.6;\" x=\"51.378125\" xlink:href=\"#maae47ab6b2\" y=\"117.920377\"/>\n      </g>\n     </g>\n    </g>\n    <g id=\"ytick_9\">\n     <g id=\"line2d_19\">\n      <g>\n       <use style=\"stroke:#000000;stroke-width:0.6;\" x=\"51.378125\" xlink:href=\"#maae47ab6b2\" y=\"50.22333\"/>\n      </g>\n     </g>\n    </g>\n    <g id=\"text_4\">\n     <!-- Frobenius error -->\n     <g transform=\"translate(14.798438 168.827187)rotate(-90)scale(0.1 -0.1)\">\n      <defs>\n       <path d=\"M 628 4666 \nL 3309 4666 \nL 3309 4134 \nL 1259 4134 \nL 1259 2759 \nL 3109 2759 \nL 3109 2228 \nL 1259 2228 \nL 1259 0 \nL 628 0 \nL 628 4666 \nz\n\" id=\"DejaVuSans-46\" transform=\"scale(0.015625)\"/>\n       <path d=\"M 2631 2963 \nQ 2534 3019 2420 3045 \nQ 2306 3072 2169 3072 \nQ 1681 3072 1420 2755 \nQ 1159 2438 1159 1844 \nL 1159 0 \nL 581 0 \nL 581 3500 \nL 1159 3500 \nL 1159 2956 \nQ 1341 3275 1631 3429 \nQ 1922 3584 2338 3584 \nQ 2397 3584 2469 3576 \nQ 2541 3569 2628 3553 \nL 2631 2963 \nz\n\" id=\"DejaVuSans-72\" transform=\"scale(0.015625)\"/>\n       <path d=\"M 1959 3097 \nQ 1497 3097 1228 2736 \nQ 959 2375 959 1747 \nQ 959 1119 1226 758 \nQ 1494 397 1959 397 \nQ 2419 397 2687 759 \nQ 2956 1122 2956 1747 \nQ 2956 2369 2687 2733 \nQ 2419 3097 1959 3097 \nz\nM 1959 3584 \nQ 2709 3584 3137 3096 \nQ 3566 2609 3566 1747 \nQ 3566 888 3137 398 \nQ 2709 -91 1959 -91 \nQ 1206 -91 779 398 \nQ 353 888 353 1747 \nQ 353 2609 779 3096 \nQ 1206 3584 1959 3584 \nz\n\" id=\"DejaVuSans-6f\" transform=\"scale(0.015625)\"/>\n       <path d=\"M 3116 1747 \nQ 3116 2381 2855 2742 \nQ 2594 3103 2138 3103 \nQ 1681 3103 1420 2742 \nQ 1159 2381 1159 1747 \nQ 1159 1113 1420 752 \nQ 1681 391 2138 391 \nQ 2594 391 2855 752 \nQ 3116 1113 3116 1747 \nz\nM 1159 2969 \nQ 1341 3281 1617 3432 \nQ 1894 3584 2278 3584 \nQ 2916 3584 3314 3078 \nQ 3713 2572 3713 1747 \nQ 3713 922 3314 415 \nQ 2916 -91 2278 -91 \nQ 1894 -91 1617 61 \nQ 1341 213 1159 525 \nL 1159 0 \nL 581 0 \nL 581 4863 \nL 1159 4863 \nL 1159 2969 \nz\n\" id=\"DejaVuSans-62\" transform=\"scale(0.015625)\"/>\n       <path d=\"M 3513 2113 \nL 3513 0 \nL 2938 0 \nL 2938 2094 \nQ 2938 2591 2744 2837 \nQ 2550 3084 2163 3084 \nQ 1697 3084 1428 2787 \nQ 1159 2491 1159 1978 \nL 1159 0 \nL 581 0 \nL 581 3500 \nL 1159 3500 \nL 1159 2956 \nQ 1366 3272 1645 3428 \nQ 1925 3584 2291 3584 \nQ 2894 3584 3203 3211 \nQ 3513 2838 3513 2113 \nz\n\" id=\"DejaVuSans-6e\" transform=\"scale(0.015625)\"/>\n       <path d=\"M 603 3500 \nL 1178 3500 \nL 1178 0 \nL 603 0 \nL 603 3500 \nz\nM 603 4863 \nL 1178 4863 \nL 1178 4134 \nL 603 4134 \nL 603 4863 \nz\n\" id=\"DejaVuSans-69\" transform=\"scale(0.015625)\"/>\n       <path d=\"M 544 1381 \nL 544 3500 \nL 1119 3500 \nL 1119 1403 \nQ 1119 906 1312 657 \nQ 1506 409 1894 409 \nQ 2359 409 2629 706 \nQ 2900 1003 2900 1516 \nL 2900 3500 \nL 3475 3500 \nL 3475 0 \nL 2900 0 \nL 2900 538 \nQ 2691 219 2414 64 \nQ 2138 -91 1772 -91 \nQ 1169 -91 856 284 \nQ 544 659 544 1381 \nz\nM 1991 3584 \nL 1991 3584 \nz\n\" id=\"DejaVuSans-75\" transform=\"scale(0.015625)\"/>\n       <path id=\"DejaVuSans-20\" transform=\"scale(0.015625)\"/>\n      </defs>\n      <use xlink:href=\"#DejaVuSans-46\"/>\n      <use x=\"50.269531\" xlink:href=\"#DejaVuSans-72\"/>\n      <use x=\"89.132812\" xlink:href=\"#DejaVuSans-6f\"/>\n      <use x=\"150.314453\" xlink:href=\"#DejaVuSans-62\"/>\n      <use x=\"213.791016\" xlink:href=\"#DejaVuSans-65\"/>\n      <use x=\"275.314453\" xlink:href=\"#DejaVuSans-6e\"/>\n      <use x=\"338.693359\" xlink:href=\"#DejaVuSans-69\"/>\n      <use x=\"366.476562\" xlink:href=\"#DejaVuSans-75\"/>\n      <use x=\"429.855469\" xlink:href=\"#DejaVuSans-73\"/>\n      <use x=\"481.955078\" xlink:href=\"#DejaVuSans-20\"/>\n      <use x=\"513.742188\" xlink:href=\"#DejaVuSans-65\"/>\n      <use x=\"575.265625\" xlink:href=\"#DejaVuSans-72\"/>\n      <use x=\"614.628906\" xlink:href=\"#DejaVuSans-72\"/>\n      <use x=\"653.492188\" xlink:href=\"#DejaVuSans-6f\"/>\n      <use x=\"714.673828\" xlink:href=\"#DejaVuSans-72\"/>\n     </g>\n    </g>\n   </g>\n   <g id=\"patch_3\">\n    <path d=\"M 51.378125 239.758125 \nL 51.378125 22.318125 \n\" style=\"fill:none;stroke:#000000;stroke-linecap:square;stroke-linejoin:miter;stroke-width:0.8;\"/>\n   </g>\n   <g id=\"patch_4\">\n    <path d=\"M 386.178125 239.758125 \nL 386.178125 22.318125 \n\" style=\"fill:none;stroke:#000000;stroke-linecap:square;stroke-linejoin:miter;stroke-width:0.8;\"/>\n   </g>\n   <g id=\"patch_5\">\n    <path d=\"M 51.378125 239.758125 \nL 386.178125 239.758125 \n\" style=\"fill:none;stroke:#000000;stroke-linecap:square;stroke-linejoin:miter;stroke-width:0.8;\"/>\n   </g>\n   <g id=\"patch_6\">\n    <path d=\"M 51.378125 22.318125 \nL 386.178125 22.318125 \n\" style=\"fill:none;stroke:#000000;stroke-linecap:square;stroke-linejoin:miter;stroke-width:0.8;\"/>\n   </g>\n   <g id=\"text_5\">\n    <!-- Mean Frobenius Error -->\n    <g transform=\"translate(155.076875 16.318125)scale(0.12 -0.12)\">\n     <defs>\n      <path d=\"M 628 4666 \nL 1569 4666 \nL 2759 1491 \nL 3956 4666 \nL 4897 4666 \nL 4897 0 \nL 4281 0 \nL 4281 4097 \nL 3078 897 \nL 2444 897 \nL 1241 4097 \nL 1241 0 \nL 628 0 \nL 628 4666 \nz\n\" id=\"DejaVuSans-4d\" transform=\"scale(0.015625)\"/>\n      <path d=\"M 2194 1759 \nQ 1497 1759 1228 1600 \nQ 959 1441 959 1056 \nQ 959 750 1161 570 \nQ 1363 391 1709 391 \nQ 2188 391 2477 730 \nQ 2766 1069 2766 1631 \nL 2766 1759 \nL 2194 1759 \nz\nM 3341 1997 \nL 3341 0 \nL 2766 0 \nL 2766 531 \nQ 2569 213 2275 61 \nQ 1981 -91 1556 -91 \nQ 1019 -91 701 211 \nQ 384 513 384 1019 \nQ 384 1609 779 1909 \nQ 1175 2209 1959 2209 \nL 2766 2209 \nL 2766 2266 \nQ 2766 2663 2505 2880 \nQ 2244 3097 1772 3097 \nQ 1472 3097 1187 3025 \nQ 903 2953 641 2809 \nL 641 3341 \nQ 956 3463 1253 3523 \nQ 1550 3584 1831 3584 \nQ 2591 3584 2966 3190 \nQ 3341 2797 3341 1997 \nz\n\" id=\"DejaVuSans-61\" transform=\"scale(0.015625)\"/>\n      <path d=\"M 628 4666 \nL 3578 4666 \nL 3578 4134 \nL 1259 4134 \nL 1259 2753 \nL 3481 2753 \nL 3481 2222 \nL 1259 2222 \nL 1259 531 \nL 3634 531 \nL 3634 0 \nL 628 0 \nL 628 4666 \nz\n\" id=\"DejaVuSans-45\" transform=\"scale(0.015625)\"/>\n     </defs>\n     <use xlink:href=\"#DejaVuSans-4d\"/>\n     <use x=\"86.279297\" xlink:href=\"#DejaVuSans-65\"/>\n     <use x=\"147.802734\" xlink:href=\"#DejaVuSans-61\"/>\n     <use x=\"209.082031\" xlink:href=\"#DejaVuSans-6e\"/>\n     <use x=\"272.460938\" xlink:href=\"#DejaVuSans-20\"/>\n     <use x=\"304.248047\" xlink:href=\"#DejaVuSans-46\"/>\n     <use x=\"354.517578\" xlink:href=\"#DejaVuSans-72\"/>\n     <use x=\"393.380859\" xlink:href=\"#DejaVuSans-6f\"/>\n     <use x=\"454.5625\" xlink:href=\"#DejaVuSans-62\"/>\n     <use x=\"518.039062\" xlink:href=\"#DejaVuSans-65\"/>\n     <use x=\"579.5625\" xlink:href=\"#DejaVuSans-6e\"/>\n     <use x=\"642.941406\" xlink:href=\"#DejaVuSans-69\"/>\n     <use x=\"670.724609\" xlink:href=\"#DejaVuSans-75\"/>\n     <use x=\"734.103516\" xlink:href=\"#DejaVuSans-73\"/>\n     <use x=\"786.203125\" xlink:href=\"#DejaVuSans-20\"/>\n     <use x=\"817.990234\" xlink:href=\"#DejaVuSans-45\"/>\n     <use x=\"881.173828\" xlink:href=\"#DejaVuSans-72\"/>\n     <use x=\"920.537109\" xlink:href=\"#DejaVuSans-72\"/>\n     <use x=\"959.400391\" xlink:href=\"#DejaVuSans-6f\"/>\n     <use x=\"1020.582031\" xlink:href=\"#DejaVuSans-72\"/>\n    </g>\n   </g>\n  </g>\n </g>\n <defs>\n  <clipPath id=\"pc82f68148d\">\n   <rect height=\"217.44\" width=\"334.8\" x=\"51.378125\" y=\"22.318125\"/>\n  </clipPath>\n </defs>\n</svg>\n",
      "image/png": "[encoded data removed]"
     },
     "metadata": {
      "needs_background": "light"
     }
    }
   ],
   "source": [
    "plt.title('Mean Frobenius Error')\n",
    "plt.ylabel('Frobenius error')\n",
    "plt.yscale('log')\n",
    "plt.xlabel('Steps')\n",
    "plt.xscale('log')\n",
    "plt.scatter(steps_array, frob_errors)\n",
    "plt.show()"
   ]
  },
  {
   "cell_type": "code",
   "execution_count": 68,
   "metadata": {},
   "outputs": [
    {
     "output_type": "stream",
     "name": "stdout",
     "text": [
      "-1.0064327256424568\n"
     ]
    }
   ],
   "source": [
    "X = np.log(steps_array)\n",
    "Y = np.log(frob_errors)\n",
    "exponent, const = np.polyfit(X, Y, 1)\n",
    "print(exponent)"
   ]
  },
  {
   "cell_type": "code",
   "execution_count": 73,
   "metadata": {},
   "outputs": [],
   "source": [
    "fidelities = np.array([meanStateFidelity(t, STEPS=steps, SHOTS=500) for steps in steps_array])"
   ]
  },
  {
   "cell_type": "code",
   "execution_count": 77,
   "metadata": {},
   "outputs": [
    {
     "output_type": "stream",
     "name": "stdout",
     "text": [
      "[[1.75266623e+03 6.75755665e+02 5.02227615e+02 1.67097124e+03]\n [2.05366790e+02 1.02404080e+04 6.50737165e+02 3.01067361e+03]\n [1.27790130e+05 2.19310257e+02 1.60324763e+03 9.28222759e+04]\n [2.00360587e+02 1.69629749e+02 3.27489545e+04 7.66664676e+01]\n [1.32607113e+05 8.08074373e+04 1.32557341e+03 4.32183094e+04]\n [7.97614072e+01 4.26237119e+04 2.87770691e+03 7.68507984e+02]\n [7.18371029e+02 1.74302970e+03 1.08894900e+04 1.96892177e+03]\n [1.79576313e+03 8.85145773e+03 4.36028125e+03 7.89741775e+03]\n [2.18953103e+04 1.61557369e+03 5.14505962e+02 1.14783647e+03]\n [1.08715323e+03 2.70482316e+04 2.24834218e+02 1.47149589e+03]\n [6.05144482e+02 8.46168713e+02 2.05079712e+05 1.91255833e+03]\n [1.11246849e+05 1.75432636e+03 5.06209083e+02 4.26852434e+03]\n [9.95440979e+04 1.63849726e+03 4.86485818e+02 4.88316490e+03]\n [1.11717544e+03 1.22194704e+04 6.25421637e+04 2.17746495e+03]\n [1.60369474e+04 4.71382537e+02 5.42112410e+02 3.68247211e+04]\n [2.71799675e+03 8.82813554e+03 1.22263067e+03 2.98501281e+03]\n [3.07269890e+02 5.59530151e+03 1.42292820e+02 6.27968514e+03]\n [2.14771150e+03 5.44374101e+03 1.30234319e+03 6.44850814e+02]\n [8.32070104e+04 4.03047755e+03 3.04977291e+03 6.58859094e+03]\n [1.25378998e+02 3.90097801e+04 4.77406344e+02 1.32149164e+02]\n [9.42372506e+02 1.26640741e+04 2.11865227e+02 1.26571876e+04]\n [8.03144412e+02 4.04493811e+02 3.22404348e+02 1.45444091e+03]\n [1.77588708e+04 1.87507103e+03 4.15998699e+04 1.28662471e+07]\n [6.58262293e+02 1.36546307e+04 5.87242608e+02 1.17612564e+03]\n [3.01001448e+02 2.40049389e+03 4.25463407e+04 7.51418579e+03]\n [2.28465606e+03 1.31648651e+04 3.09595338e+02 2.33029709e+03]\n [2.84019292e+03 3.04455900e+02 4.38317525e+02 1.11736307e+04]\n [3.91484701e+04 9.71200163e+02 1.35851508e+02 2.46405152e+05]\n [4.27306408e+03 1.49671378e+02 7.34349089e+02 1.53174039e+02]\n [1.05413442e+02 4.85052753e+03 4.65767623e+02 2.17514679e+02]\n [4.89356901e+02 1.95629907e+02 1.25137975e+04 3.46645321e+02]\n [3.89198577e+04 2.31434332e+02 6.12713419e+02 3.77062165e+03]\n [5.70493137e+03 1.11929498e+03 5.97809539e+03 5.26339855e+02]\n [2.64228580e+02 1.06654811e+03 1.08947067e+03 3.36516306e+03]\n [5.88572421e+03 1.13846960e+03 2.81451981e+03 2.21201166e+03]\n [1.99433663e+03 2.32647479e+03 2.81108590e+02 2.01978232e+05]\n [1.57810047e+03 5.14184265e+02 7.09063998e+02 1.69476290e+04]]\n"
     ]
    },
    {
     "output_type": "display_data",
     "data": {
      "text/plain": "<Figure size 432x288 with 0 Axes>"
     },
     "metadata": {}
    }
   ],
   "source": [
    "plt.clf()\n",
    "print(fidelities)"
   ]
  },
  {
   "cell_type": "code",
   "execution_count": 76,
   "metadata": {},
   "outputs": [
    {
     "output_type": "error",
     "ename": "ValueError",
     "evalue": "x and y must be the same size",
     "traceback": [
      "\u001b[0;31m---------------------------------------------------------------------------\u001b[0m",
      "\u001b[0;31mValueError\u001b[0m                                Traceback (most recent call last)",
      "\u001b[0;32m<ipython-input-76-634a7b51e031>\u001b[0m in \u001b[0;36m<module>\u001b[0;34m\u001b[0m\n\u001b[1;32m      4\u001b[0m \u001b[0mplt\u001b[0m\u001b[0;34m.\u001b[0m\u001b[0mxlabel\u001b[0m\u001b[0;34m(\u001b[0m\u001b[0;34m'Steps'\u001b[0m\u001b[0;34m)\u001b[0m\u001b[0;34m\u001b[0m\u001b[0;34m\u001b[0m\u001b[0m\n\u001b[1;32m      5\u001b[0m \u001b[0mplt\u001b[0m\u001b[0;34m.\u001b[0m\u001b[0mxscale\u001b[0m\u001b[0;34m(\u001b[0m\u001b[0;34m'log'\u001b[0m\u001b[0;34m)\u001b[0m\u001b[0;34m\u001b[0m\u001b[0;34m\u001b[0m\u001b[0m\n\u001b[0;32m----> 6\u001b[0;31m \u001b[0mplt\u001b[0m\u001b[0;34m.\u001b[0m\u001b[0mscatter\u001b[0m\u001b[0;34m(\u001b[0m\u001b[0msteps_array\u001b[0m\u001b[0;34m,\u001b[0m \u001b[0mfidelities\u001b[0m\u001b[0;34m)\u001b[0m\u001b[0;34m\u001b[0m\u001b[0;34m\u001b[0m\u001b[0m\n\u001b[0m\u001b[1;32m      7\u001b[0m \u001b[0mplt\u001b[0m\u001b[0;34m.\u001b[0m\u001b[0mshow\u001b[0m\u001b[0;34m(\u001b[0m\u001b[0;34m)\u001b[0m\u001b[0;34m\u001b[0m\u001b[0;34m\u001b[0m\u001b[0m\n",
      "\u001b[0;32m~/anaconda3/envs/QML/lib/python3.8/site-packages/matplotlib/pyplot.py\u001b[0m in \u001b[0;36mscatter\u001b[0;34m(x, y, s, c, marker, cmap, norm, vmin, vmax, alpha, linewidths, edgecolors, plotnonfinite, data, **kwargs)\u001b[0m\n\u001b[1;32m   3035\u001b[0m         \u001b[0mvmin\u001b[0m\u001b[0;34m=\u001b[0m\u001b[0;32mNone\u001b[0m\u001b[0;34m,\u001b[0m \u001b[0mvmax\u001b[0m\u001b[0;34m=\u001b[0m\u001b[0;32mNone\u001b[0m\u001b[0;34m,\u001b[0m \u001b[0malpha\u001b[0m\u001b[0;34m=\u001b[0m\u001b[0;32mNone\u001b[0m\u001b[0;34m,\u001b[0m \u001b[0mlinewidths\u001b[0m\u001b[0;34m=\u001b[0m\u001b[0;32mNone\u001b[0m\u001b[0;34m,\u001b[0m \u001b[0;34m*\u001b[0m\u001b[0;34m,\u001b[0m\u001b[0;34m\u001b[0m\u001b[0;34m\u001b[0m\u001b[0m\n\u001b[1;32m   3036\u001b[0m         edgecolors=None, plotnonfinite=False, data=None, **kwargs):\n\u001b[0;32m-> 3037\u001b[0;31m     __ret = gca().scatter(\n\u001b[0m\u001b[1;32m   3038\u001b[0m         \u001b[0mx\u001b[0m\u001b[0;34m,\u001b[0m \u001b[0my\u001b[0m\u001b[0;34m,\u001b[0m \u001b[0ms\u001b[0m\u001b[0;34m=\u001b[0m\u001b[0ms\u001b[0m\u001b[0;34m,\u001b[0m \u001b[0mc\u001b[0m\u001b[0;34m=\u001b[0m\u001b[0mc\u001b[0m\u001b[0;34m,\u001b[0m \u001b[0mmarker\u001b[0m\u001b[0;34m=\u001b[0m\u001b[0mmarker\u001b[0m\u001b[0;34m,\u001b[0m \u001b[0mcmap\u001b[0m\u001b[0;34m=\u001b[0m\u001b[0mcmap\u001b[0m\u001b[0;34m,\u001b[0m \u001b[0mnorm\u001b[0m\u001b[0;34m=\u001b[0m\u001b[0mnorm\u001b[0m\u001b[0;34m,\u001b[0m\u001b[0;34m\u001b[0m\u001b[0;34m\u001b[0m\u001b[0m\n\u001b[1;32m   3039\u001b[0m         \u001b[0mvmin\u001b[0m\u001b[0;34m=\u001b[0m\u001b[0mvmin\u001b[0m\u001b[0;34m,\u001b[0m \u001b[0mvmax\u001b[0m\u001b[0;34m=\u001b[0m\u001b[0mvmax\u001b[0m\u001b[0;34m,\u001b[0m \u001b[0malpha\u001b[0m\u001b[0;34m=\u001b[0m\u001b[0malpha\u001b[0m\u001b[0;34m,\u001b[0m \u001b[0mlinewidths\u001b[0m\u001b[0;34m=\u001b[0m\u001b[0mlinewidths\u001b[0m\u001b[0;34m,\u001b[0m\u001b[0;34m\u001b[0m\u001b[0;34m\u001b[0m\u001b[0m\n",
      "\u001b[0;32m~/anaconda3/envs/QML/lib/python3.8/site-packages/matplotlib/__init__.py\u001b[0m in \u001b[0;36minner\u001b[0;34m(ax, data, *args, **kwargs)\u001b[0m\n\u001b[1;32m   1350\u001b[0m     \u001b[0;32mdef\u001b[0m \u001b[0minner\u001b[0m\u001b[0;34m(\u001b[0m\u001b[0max\u001b[0m\u001b[0;34m,\u001b[0m \u001b[0;34m*\u001b[0m\u001b[0margs\u001b[0m\u001b[0;34m,\u001b[0m \u001b[0mdata\u001b[0m\u001b[0;34m=\u001b[0m\u001b[0;32mNone\u001b[0m\u001b[0;34m,\u001b[0m \u001b[0;34m**\u001b[0m\u001b[0mkwargs\u001b[0m\u001b[0;34m)\u001b[0m\u001b[0;34m:\u001b[0m\u001b[0;34m\u001b[0m\u001b[0;34m\u001b[0m\u001b[0m\n\u001b[1;32m   1351\u001b[0m         \u001b[0;32mif\u001b[0m \u001b[0mdata\u001b[0m \u001b[0;32mis\u001b[0m \u001b[0;32mNone\u001b[0m\u001b[0;34m:\u001b[0m\u001b[0;34m\u001b[0m\u001b[0;34m\u001b[0m\u001b[0m\n\u001b[0;32m-> 1352\u001b[0;31m             \u001b[0;32mreturn\u001b[0m \u001b[0mfunc\u001b[0m\u001b[0;34m(\u001b[0m\u001b[0max\u001b[0m\u001b[0;34m,\u001b[0m \u001b[0;34m*\u001b[0m\u001b[0mmap\u001b[0m\u001b[0;34m(\u001b[0m\u001b[0msanitize_sequence\u001b[0m\u001b[0;34m,\u001b[0m \u001b[0margs\u001b[0m\u001b[0;34m)\u001b[0m\u001b[0;34m,\u001b[0m \u001b[0;34m**\u001b[0m\u001b[0mkwargs\u001b[0m\u001b[0;34m)\u001b[0m\u001b[0;34m\u001b[0m\u001b[0;34m\u001b[0m\u001b[0m\n\u001b[0m\u001b[1;32m   1353\u001b[0m \u001b[0;34m\u001b[0m\u001b[0m\n\u001b[1;32m   1354\u001b[0m         \u001b[0mbound\u001b[0m \u001b[0;34m=\u001b[0m \u001b[0mnew_sig\u001b[0m\u001b[0;34m.\u001b[0m\u001b[0mbind\u001b[0m\u001b[0;34m(\u001b[0m\u001b[0max\u001b[0m\u001b[0;34m,\u001b[0m \u001b[0;34m*\u001b[0m\u001b[0margs\u001b[0m\u001b[0;34m,\u001b[0m \u001b[0;34m**\u001b[0m\u001b[0mkwargs\u001b[0m\u001b[0;34m)\u001b[0m\u001b[0;34m\u001b[0m\u001b[0;34m\u001b[0m\u001b[0m\n",
      "\u001b[0;32m~/anaconda3/envs/QML/lib/python3.8/site-packages/matplotlib/axes/_axes.py\u001b[0m in \u001b[0;36mscatter\u001b[0;34m(self, x, y, s, c, marker, cmap, norm, vmin, vmax, alpha, linewidths, edgecolors, plotnonfinite, **kwargs)\u001b[0m\n\u001b[1;32m   4476\u001b[0m         \u001b[0my\u001b[0m \u001b[0;34m=\u001b[0m \u001b[0mnp\u001b[0m\u001b[0;34m.\u001b[0m\u001b[0mma\u001b[0m\u001b[0;34m.\u001b[0m\u001b[0mravel\u001b[0m\u001b[0;34m(\u001b[0m\u001b[0my\u001b[0m\u001b[0;34m)\u001b[0m\u001b[0;34m\u001b[0m\u001b[0;34m\u001b[0m\u001b[0m\n\u001b[1;32m   4477\u001b[0m         \u001b[0;32mif\u001b[0m \u001b[0mx\u001b[0m\u001b[0;34m.\u001b[0m\u001b[0msize\u001b[0m \u001b[0;34m!=\u001b[0m \u001b[0my\u001b[0m\u001b[0;34m.\u001b[0m\u001b[0msize\u001b[0m\u001b[0;34m:\u001b[0m\u001b[0;34m\u001b[0m\u001b[0;34m\u001b[0m\u001b[0m\n\u001b[0;32m-> 4478\u001b[0;31m             \u001b[0;32mraise\u001b[0m \u001b[0mValueError\u001b[0m\u001b[0;34m(\u001b[0m\u001b[0;34m\"x and y must be the same size\"\u001b[0m\u001b[0;34m)\u001b[0m\u001b[0;34m\u001b[0m\u001b[0;34m\u001b[0m\u001b[0m\n\u001b[0m\u001b[1;32m   4479\u001b[0m \u001b[0;34m\u001b[0m\u001b[0m\n\u001b[1;32m   4480\u001b[0m         \u001b[0;32mif\u001b[0m \u001b[0ms\u001b[0m \u001b[0;32mis\u001b[0m \u001b[0;32mNone\u001b[0m\u001b[0;34m:\u001b[0m\u001b[0;34m\u001b[0m\u001b[0;34m\u001b[0m\u001b[0m\n",
      "\u001b[0;31mValueError\u001b[0m: x and y must be the same size"
     ]
    }
   ],
   "source": [
    "plt.title('Mean State fidelities')\n",
    "plt.ylabel('State fidelity')\n",
    "plt.yscale('log')\n",
    "plt.xlabel('Steps')\n",
    "plt.xscale('log')\n",
    "plt.scatter(steps_array, fidelities)\n",
    "plt.show()"
   ]
  },
  {
   "cell_type": "code",
   "execution_count": null,
   "metadata": {},
   "outputs": [],
   "source": []
  }
 ]
}