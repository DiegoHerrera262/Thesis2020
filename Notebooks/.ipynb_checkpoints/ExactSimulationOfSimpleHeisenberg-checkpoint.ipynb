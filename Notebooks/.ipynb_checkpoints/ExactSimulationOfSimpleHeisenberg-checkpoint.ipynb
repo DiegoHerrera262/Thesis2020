{
 "cells": [
  {
   "cell_type": "markdown",
   "metadata": {},
   "source": [
    "# Exact Simulation of Diagonal Heisenberg Hamiltonian in a Quantum Computer\n",
    "\n",
    "In this notebook I discuss a simlpe circuit for simulating time evolution of a **two-spin-half system** determined by the interaction Hamiltonian:\n",
    "\n",
    "$$\\hat{H}_{ij} = \\mathrm{\\vec{\\sigma}}^{(i)} \\cdot  \\mathrm{J} \\cdot \\mathrm{\\vec{\\sigma}}^{(j)} = \\sum_{k = 1}^{3} J_k \\sigma_{k}^{(i)} \\otimes \\sigma_{k}^{(j)}$$\n",
    "\n",
    "I suggest a transformation to the Bell Basis for this system, since that is the one in wich the Hamiltonian is diagonal. After that, a set of controlled rotations may be used to append the phases acording to the energy eigenvalues that are associated to each of the vectors of the Hamiltonian eigenbasis. A more standard approach is to interpret the Hamiltonian as a sum of simple terms\n",
    "\n",
    "$$\\hat{H}_{ij} = \\sum_{k=1}^{3} \\hat{H}_{k}$$\n",
    "\n",
    "With the definitions\n",
    "\n",
    "$$\\hat{H}_{k} = J_k \\sigma_{k}^{(i)} \\otimes \\sigma_{k}^{(j)}$$\n",
    "\n",
    "This terms might be implemented using a standard procedure depicted in **Nielsen & Chuang (2010)**. However, since Pauli operators are not commuting, time evolution is not exact under the above partition of the Hamiltonian. Therefore, in this notebook I set out to:\n",
    "\n",
    "* Show that the Bell Basis is appropriate for performing exact time evolution of the considered system.\n",
    "* Propose an algorithm for performing exact time evolution and simulate it on Qiskit\n",
    "* Discuss gate count produced by my suggested algorithm and that produced by the partition *a la Nielsen*"
   ]
  },
  {
   "cell_type": "code",
   "execution_count": 1,
   "metadata": {},
   "outputs": [],
   "source": [
    "# imports necessary to run the cells below\n",
    "import numpy as np\n",
    "from qiskit import QuantumCircuit, execute, Aer\n",
    "from qiskit_textbook.tools import array_to_latex\n",
    "from qiskit.visualization import plot_bloch_multivector, plot_histogram\n",
    "# Set up backend (only state vector simulation in this notebook)\n",
    "backend = Aer.get_backend('statevector_simulator')"
   ]
  },
  {
   "cell_type": "markdown",
   "metadata": {},
   "source": [
    "## Diagonalization of the Hamiltonian\n",
    "\n",
    "This section is devoted to demonstrating that the Bell basis is the eigenbasis of the simulated Hamiltonian, and thus is suitable for performing exact time simulation.\n",
    "\n",
    "### Transformation betwen computaional and Bell bases\n",
    "\n",
    "The Bell basis is a standard basis on Quantum Computing. It is widely used in quantum protocols such as *Teleportation* and *Superdense Coding*. The algorithm for changing from computational basis to Bell basis, and viceversa, is standard and is implemented bellow."
   ]
  },
  {
   "cell_type": "code",
   "execution_count": 9,
   "metadata": {},
   "outputs": [],
   "source": [
    "def Comp2Bell():\n",
    "    '''\n",
    "    Gate for changing basis\n",
    "    from computational to Bell\n",
    "    '''\n",
    "    qc_Bell = QuantumCircuit(2)\n",
    "    qc_Bell.h(0)\n",
    "    qc_Bell.cx(0,1)\n",
    "    # Convert to gate\n",
    "    C2B_gate = qc_Bell.to_gate()\n",
    "    C2B_gate.name = 'Comp2Bell'\n",
    "    return C2B_gate\n",
    "\n",
    "def Bell2Comp():\n",
    "    '''\n",
    "    Gate for changing basis\n",
    "    from Bell to Computational\n",
    "    '''\n",
    "    qc_Bell = QuantumCircuit(2)\n",
    "    qc_Bell.cx(0,1)\n",
    "    qc_Bell.h(0)\n",
    "    # Convert to gate\n",
    "    B2C_gate = qc_Bell.to_gate()\n",
    "    B2C_gate.name = 'Bell2Comp'\n",
    "    return B2C_gate"
   ]
  },
  {
   "cell_type": "markdown",
   "metadata": {},
   "source": [
    "In the next 2 cells, it is demonstated that the gates above actually perform the basis change. The ```statevector_simulator``` is used, and the tools for latex visualization are suggested for better visualization"
   ]
  },
  {
   "cell_type": "code",
   "execution_count": 18,
   "metadata": {},
   "outputs": [],
   "source": [
    "# Create list with init state\n",
    "init_state = [0,0,0,1]"
   ]
  },
  {
   "cell_type": "code",
   "execution_count": 19,
   "metadata": {},
   "outputs": [
    {
     "data": {
      "text/latex": [
       "$\\displaystyle \n",
       "|\\psi_i\\rangle = \\begin{bmatrix}\n",
       "0 \\\\\n",
       "0 \\\\\n",
       "0 \\\\\n",
       "1\n",
       "\\end{bmatrix}\n",
       "$"
      ],
      "text/plain": [
       "<IPython.core.display.Math object>"
      ]
     },
     "metadata": {},
     "output_type": "display_data"
    },
    {
     "data": {
      "text/latex": [
       "$\\displaystyle \n",
       "|\\psi_f\\rangle = \\begin{bmatrix}\n",
       "0 \\\\\n",
       "-\\tfrac{1}{\\sqrt{2}} \\\\\n",
       "\\tfrac{1}{\\sqrt{2}} \\\\\n",
       "0\n",
       "\\end{bmatrix}\n",
       "$"
      ],
      "text/plain": [
       "<IPython.core.display.Math object>"
      ]
     },
     "metadata": {},
     "output_type": "display_data"
    }
   ],
   "source": [
    "# Create Quantum Circuit\n",
    "qc_Demo = QuantumCircuit(2)\n",
    "# Initialize to init_state\n",
    "qc_Demo.initialize(init_state,range(2))\n",
    "C2B = Comp2Bell()\n",
    "qc_Demo.append(C2B,range(2))\n",
    "# Draw Circuit\n",
    "qc_Demo.draw()\n",
    "# Simulate statevector\n",
    "final_state = execute(qc_Demo,backend).result().get_statevector()\n",
    "\n",
    "# print initial state and final state\n",
    "array_to_latex(init_state,pretext=\"|\\\\psi_i\\\\rangle = \")\n",
    "array_to_latex(final_state,pretext=\"|\\\\psi_f\\\\rangle = \")"
   ]
  },
  {
   "cell_type": "markdown",
   "metadata": {},
   "source": [
    "The Bell basis is conventionally defined as:\n",
    "\n",
    "$$|\\phi^{+}\\rangle = \\frac{1}{\\sqrt{2}}\\bigg(|00\\rangle + |11\\rangle\\bigg)$$\n",
    "$$|\\phi^{-}\\rangle = \\frac{1}{\\sqrt{2}}\\bigg(|00\\rangle - |11\\rangle\\bigg)$$\n",
    "$$|\\psi^{+}\\rangle = \\frac{1}{\\sqrt{2}}\\bigg(|01\\rangle + |10\\rangle\\bigg)$$\n",
    "$$|\\psi^{-}\\rangle = \\frac{1}{\\sqrt{2}}\\bigg(|01\\rangle - |10\\rangle\\bigg)$$\n",
    "\n",
    "From which it is clear that the change of basis performed by the gates above corresponds to\n",
    "\n",
    "$$|00\\rangle \\rightarrow |\\phi^{+}\\rangle$$\n",
    "$$|01\\rangle \\rightarrow |\\phi^{-}\\rangle$$\n",
    "$$|10\\rangle \\rightarrow |\\psi^{+}\\rangle$$\n",
    "$$|11\\rangle \\rightarrow -|\\psi^{-}\\rangle$$"
   ]
  },
  {
   "cell_type": "markdown",
   "metadata": {},
   "source": [
    "### Bell Basis and Target Hamiltonian\n",
    "\n",
    "Using the well known identities\n",
    "\n",
    "$$\\hat{\\sigma}_x |0\\rangle = |1\\rangle$$\n",
    "$$\\hat{\\sigma}_x |1\\rangle = |0\\rangle$$\n",
    "\n",
    "$$\\hat{\\sigma}_y |0\\rangle = \\mathrm{i}|1\\rangle$$\n",
    "$$\\hat{\\sigma}_y |1\\rangle = -\\mathrm{i}|0\\rangle$$\n",
    "\n",
    "$$\\hat{\\sigma}_z |0\\rangle = |0\\rangle$$\n",
    "$$\\hat{\\sigma}_z |1\\rangle = -|1\\rangle$$\n",
    "\n",
    "It is readily seen that\n",
    "\n",
    "$$\\sigma_{x}^{(i)} \\otimes \\sigma_{x}^{(j)} |\\phi^{\\pm}\\rangle = \\pm|\\phi^{\\pm}\\rangle$$\n",
    "$$\\sigma_{y}^{(i)} \\otimes \\sigma_{y}^{(j)} |\\phi^{\\pm}\\rangle = \\mp|\\phi^{\\pm}\\rangle$$\n",
    "$$\\sigma_{z}^{(i)} \\otimes \\sigma_{z}^{(j)} |\\phi^{\\pm}\\rangle = |\\phi^{\\pm}\\rangle$$\n",
    "\n",
    "$$\\sigma_{x}^{(i)} \\otimes \\sigma_{x}^{(j)} |\\psi^{\\pm}\\rangle = \\pm|\\psi^{\\pm}\\rangle$$\n",
    "$$\\sigma_{y}^{(i)} \\otimes \\sigma_{y}^{(j)} |\\psi^{\\pm}\\rangle = \\pm|\\psi^{\\pm}\\rangle$$\n",
    "$$\\sigma_{z}^{(i)} \\otimes \\sigma_{z}^{(j)} |\\psi^{\\pm} = -|\\psi^{\\pm}\\rangle$$\n",
    "\n",
    "Therefore, the Bell basis is the eigenbasis of the two-spin-half Heisenberg Hamiltonian, with:\n",
    "\n",
    "$$\\hat{H}_{ij} |\\phi^{\\pm} \\rangle = [J_z \\pm (J_x - J_y)]|\\phi^{\\pm} \\rangle$$\n",
    "$$\\hat{H}_{ij} |\\psi^{\\pm} \\rangle = [-J_z \\pm (J_x + J_y)]|\\psi^{\\pm} \\rangle$$\n",
    "\n",
    "The next two cells are devoted to prove the claim using numpy."
   ]
  },
  {
   "cell_type": "code",
   "execution_count": 20,
   "metadata": {},
   "outputs": [],
   "source": [
    "# Enter exchange integrals\n",
    "Jx = 9\n",
    "Jy = 7\n",
    "Jz = 3"
   ]
  },
  {
   "cell_type": "code",
   "execution_count": 22,
   "metadata": {},
   "outputs": [
    {
     "name": "stdout",
     "output_type": "stream",
     "text": [
      "Hamiltonian: \n",
      " [[ 3.  0.  0.  2.]\n",
      " [ 0. -3. 16.  0.]\n",
      " [ 0. 16. -3.  0.]\n",
      " [ 2.  0.  0.  3.]]\n",
      "E(psi-) =  -19\n",
      "E(psi+) =  13\n",
      "E(phi-) =  1\n",
      "E(phi+) =  5\n",
      "Energies: \n",
      " [  5.   1.  13. -19.]\n",
      "Eigenstates: \n",
      " [[ 0.70710678  0.70710678  0.          0.        ]\n",
      " [ 0.          0.          0.70710678 -0.70710678]\n",
      " [ 0.          0.          0.70710678  0.70710678]\n",
      " [ 0.70710678 -0.70710678  0.          0.        ]]\n"
     ]
    }
   ],
   "source": [
    "# Definition of the System Hamiltonian\n",
    "z = np.array([[1,0],[0,-1]])\n",
    "x = np.array([[0,1],[1,0]])\n",
    "y = np.array([[0,-1j],[1j,0]])\n",
    "Hij = Jx*np.kron(x,x) + Jy*np.kron(y,y) + Jz*np.kron(z,z)\n",
    "# Print expected energy spectrum and Hamiltonian\n",
    "print('Hamiltonian: \\n',Hij.real)\n",
    "print('E(psi-) = ',-Jz - (Jx + Jy))\n",
    "print('E(psi+) = ',-Jz + (Jx + Jy))\n",
    "print('E(phi-) = ',Jz - (Jx - Jy))\n",
    "print('E(phi+) = ',Jz + (Jx - Jy))\n",
    "\n",
    "# Compute energies and eigenstates using numpy.linalg\n",
    "energies, eigvecs = np.linalg.eig(Hij.real)\n",
    "print('Energies: \\n',energies)\n",
    "print('Eigenstates: \\n',eigvecs)"
   ]
  },
  {
   "cell_type": "markdown",
   "metadata": {},
   "source": [
    "## Quantum Time Evolution\n",
    "\n",
    "This section is devoted to motivating a simple algorithm for exact time simulation under the two-spin-half system Hamiltonian $\\hat{H}_{ij}$. It is based upon the fact that the Bell basis is the eigenbasis if the Hamiltonian\n",
    "\n",
    "### How to append the phase\n",
    "\n",
    "In general, time evolution is performed by the operator\n",
    "\n",
    "$$\\hat{U}_{ij}(t) = \\exp(-\\mathrm{i}t\\hat{H}_{ij})$$\n",
    "\n",
    "As a consequence, when expressed in the Bell basis, an evolved state vector only differs from the initial state in *relative phases* which can be predicted as follows:\n",
    "\n",
    "* Any $|\\psi\\rangle$ component receives a phase $\\mathrm{e}^{\\mathrm{i}J_z t}$\n",
    "* Any $|\\phi\\rangle$ component receives a phase\n",
    "$\\mathrm{e}^{-\\mathrm{i}J_z t}$\n",
    "* The $|\\psi^{\\pm}\\rangle$ components receive phases\n",
    "$\\mathrm{e}^{\\mp\\mathrm{i}(J_x + J_y) t}$\n",
    "* The $|\\phi^{\\pm}\\rangle$ components receive phases\n",
    "$\\mathrm{e}^{\\mp\\mathrm{i}(J_x - J_y) t}$\n",
    "\n",
    "The change of basis from computational to Bell (*plus linearity*), give a clear prescription for pushing the phases, after changing:\n",
    "\n",
    "* If the leftmost qubit is at 0, push a $\\mathrm{e}^{-\\mathrm{i}J_z t}$. If it is at 1, push a $\\mathrm{e}^{\\mathrm{i}J_z t}$\n",
    "\n",
    "* The rightmost qubit determines the x-y phase, in particular, the sign of the angle of rotation. The leftomost qubit determines if the phase is associated to a $|\\psi\\rangle$ state or a $|\\phi\\rangle$ state.\n",
    "\n",
    "Therefore, I prescribe the following algorithm\n",
    "\n",
    "1. Change from computational basis to Bell basis using gates built above.\n",
    "2. Add a phase associated to $J_z$ by applying an $R_z(-2J_zt)$ to the leftmost qubit.\n",
    "\n",
    "Use an ancilla qubit to add a phase associated to $J_x$ and $J_y$ as follows:\n",
    "\n",
    "* Apply a **CNOT** to determine the sign of the phase, with rightmost qubit as control.\n",
    "* Apply a **Controlled** $R_z(-2(J_x+J_y)t)$ to leftmost qbit, using rightmost one as control.\n",
    "* Apply a **Controlled** $R_z(-2(J_x-J_y)t)$ to leftmost qbit, using rightmost one as control, *and inverted conditional*.\n",
    "\n",
    "The ancilla qubit is used only to **kick the phase**. Therefore, only the **CNOT** gate needs be undone. After this, the target qubits are returned to computational basis using the gate in previous cells."
   ]
  },
  {
   "cell_type": "markdown",
   "metadata": {},
   "source": [
    "### Demo Circuit\n",
    "\n",
    "The following cells depict the quantum algorithm as a quantum circuit using Qiskit, for a time $t$."
   ]
  },
  {
   "cell_type": "code",
   "execution_count": 25,
   "metadata": {},
   "outputs": [],
   "source": [
    "# Bell basis vectors for \n",
    "phi1 = np.array([1/np.sqrt(2),0,0,1/np.sqrt(2)])\n",
    "phi2 = np.array([1/np.sqrt(2),0,0,-1/np.sqrt(2)])\n",
    "psi1 = np.array([0,1/np.sqrt(2),1/np.sqrt(2),0])\n",
    "psi2 = np.array([0,-1/np.sqrt(2),1/np.sqrt(2),0])"
   ]
  },
  {
   "cell_type": "code",
   "execution_count": 26,
   "metadata": {},
   "outputs": [],
   "source": [
    "# Simulation time\n",
    "t = np.pi/15\n",
    "# Initial state\n",
    "init_state = 1/np.sqrt(2) * (phi1 + phi2)"
   ]
  },
  {
   "cell_type": "code",
   "execution_count": 27,
   "metadata": {},
   "outputs": [
    {
     "data": {
      "image/png": "[encoded data removed]",
      "text/plain": [
       "<Figure size 1224.38x204.68 with 1 Axes>"
      ]
     },
     "execution_count": 27,
     "metadata": {},
     "output_type": "execute_result"
    }
   ],
   "source": [
    "qc_DemoTevol = QuantumCircuit(3)\n",
    "# initialize qubits\n",
    "qc_DemoTevol.initialize(init_state,range(2))\n",
    "qc_DemoTevol.barrier()\n",
    "# Perform Step 1 - Change basis\n",
    "B2C = Bell2Comp()\n",
    "qc_DemoTevol.append(B2C,range(2))\n",
    "qc_DemoTevol.barrier()\n",
    "# Perform Step 2 - Push Jz phase\n",
    "qc_DemoTevol.rz(-2*Jz*t,1)\n",
    "qc_DemoTevol.barrier()\n",
    "#Peform Step 3 - Push Jx - Jy phase\n",
    "qc_DemoTevol.cx(0,2)\n",
    "qc_DemoTevol.crz(-2*(Jx+Jy)*t,1,2)\n",
    "qc_DemoTevol.x(1)\n",
    "qc_DemoTevol.crz(-2*(Jx-Jy)*t,1,2)\n",
    "qc_DemoTevol.x(1)\n",
    "qc_DemoTevol.cx(0,2)\n",
    "qc_DemoTevol.barrier()\n",
    "# Perform Step - Return to Computational\n",
    "qc_DemoTevol.append(C2B,range(2))\n",
    "# Draw circuit\n",
    "qc_DemoTevol.draw()"
   ]
  },
  {
   "cell_type": "markdown",
   "metadata": {},
   "source": [
    "**NOTE:** The circuit above may be further simplified by taking advantage of the *x-y* decomposition of z rotations. However, I leave this task for later."
   ]
  },
  {
   "cell_type": "markdown",
   "metadata": {},
   "source": [
    "### Simulation of time evolution with Qiskit\n",
    "\n",
    "I proceed to building a gate to perform time evolution using the circuit above. This can be used to verify the correctness of the algorithm."
   ]
  },
  {
   "cell_type": "code",
   "execution_count": 32,
   "metadata": {},
   "outputs": [],
   "source": [
    "def HijTimeEvol(t):\n",
    "    '''\n",
    "    Gate for performing exact time\n",
    "    evolution of two_spin_half\n",
    "    system under Hij Hamiltonian\n",
    "    '''\n",
    "    qc_DemoTevol = QuantumCircuit(3)\n",
    "    # Perform Step 1 - Change basis\n",
    "    B2C = Bell2Comp()\n",
    "    qc_DemoTevol.append(B2C,range(2))\n",
    "    # Perform Step 2 - Push Jz phase\n",
    "    qc_DemoTevol.rz(-2*Jz*t,1)\n",
    "    #Peform Step 3 - Push Jx - Jy phase\n",
    "    qc_DemoTevol.cx(0,2)\n",
    "    qc_DemoTevol.crz(-2*(Jx+Jy)*t,1,2)\n",
    "    qc_DemoTevol.x(1)\n",
    "    qc_DemoTevol.crz(-2*(Jx-Jy)*t,1,2)\n",
    "    qc_DemoTevol.x(1)\n",
    "    qc_DemoTevol.cx(0,2)\n",
    "    # Perform Step - Return to Computational\n",
    "    qc_DemoTevol.append(C2B,range(2))\n",
    "    # Convert to gate\n",
    "    Uij_gate = qc_DemoTevol.to_gate()\n",
    "    Uij_gate.name = 'Uij(t)'\n",
    "    return Uij_gate"
   ]
  },
  {
   "cell_type": "markdown",
   "metadata": {},
   "source": [
    "Insert simulation time and initial state in the following cell"
   ]
  },
  {
   "cell_type": "code",
   "execution_count": 46,
   "metadata": {},
   "outputs": [],
   "source": [
    "# Simulation time\n",
    "t = np.pi/15\n",
    "# Initial state\n",
    "sqr2 = 1/np.sqrt(2)\n",
    "init_state =  psi2"
   ]
  },
  {
   "cell_type": "code",
   "execution_count": 47,
   "metadata": {},
   "outputs": [
    {
     "data": {
      "image/png": "[encoded data removed]",
      "text/plain": [
       "<Figure size 381.577x204.68 with 1 Axes>"
      ]
     },
     "execution_count": 47,
     "metadata": {},
     "output_type": "execute_result"
    }
   ],
   "source": [
    "# Create quantum circuit to assess time simulation\n",
    "qc_Time = QuantumCircuit(3)\n",
    "# initialize qubits\n",
    "qc_Time.initialize(init_state,range(2))\n",
    "Uij = HijTimeEvol(t)\n",
    "qc_Time.append(Uij,range(3))\n",
    "qc_Time.draw()"
   ]
  },
  {
   "cell_type": "code",
   "execution_count": 48,
   "metadata": {},
   "outputs": [
    {
     "data": {
      "text/latex": [
       "$\\displaystyle \n",
       "|\\psi_i\\rangle = \\begin{bmatrix}\n",
       "0 \\\\\n",
       "-\\tfrac{1}{\\sqrt{2}} \\\\\n",
       "\\tfrac{1}{\\sqrt{2}} \\\\\n",
       "0\n",
       "\\end{bmatrix}\n",
       "$"
      ],
      "text/plain": [
       "<IPython.core.display.Math object>"
      ]
     },
     "metadata": {},
     "output_type": "display_data"
    },
    {
     "data": {
      "text/latex": [
       "$\\displaystyle \n",
       "|\\psi_f\\rangle = \\begin{bmatrix}\n",
       "0 \\\\\n",
       "0.07391 - 0.70323i \\\\\n",
       "-0.07391 + 0.70323i \\\\\n",
       "0\n",
       "\\end{bmatrix}\n",
       "$"
      ],
      "text/plain": [
       "<IPython.core.display.Math object>"
      ]
     },
     "metadata": {},
     "output_type": "display_data"
    }
   ],
   "source": [
    "# Simulate quantum circuit using statevector_simulator\n",
    "final_state = execute(qc_Time,backend).result().get_statevector()\n",
    "\n",
    "# print initial state and final state\n",
    "array_to_latex(init_state,pretext=\"|\\\\psi_i\\\\rangle = \")\n",
    "array_to_latex(final_state[0:4],pretext=\"|\\\\psi_f\\\\rangle = \")"
   ]
  },
  {
   "cell_type": "markdown",
   "metadata": {},
   "source": [
    "## Comparison with Evolution *a la* Nielsen\n",
    "\n",
    "I set out to compare Nielsen's method for time simulation, based upon the computation of state parity and a Susuki-Trotter iteration, with the scheme introduced in this notebook.\n",
    "\n",
    "### Nielsen's Scheme for time simulation\n",
    "\n",
    "The partition scheme takes advantage of the ease of computaion of exponentials of tensor products of Pauli operators. The principle is straightforward. Time evolution under Hamiltonian\n",
    "\n",
    "$$\\hat{H}_3 = J_z\\hat{\\sigma}_z^{(i)} \\otimes \\hat{\\sigma}_z^{(j)}$$\n",
    "\n",
    "is carried out easily in the computational basis, since this is the eigenbasis of the Hamiltonian. The fundamental idea is to keep track of the *parity* of the state, and *kick back* the phase using an ancilla qubit. This can be done by reversible application of **XOR** operation on the state qubits using a series of **CNOT** gates. To attack the problem of time evolution under Hamiltonians\n",
    "\n",
    "$$\\hat{H}_2 = J_y\\hat{\\sigma}_y^{(i)} \\otimes \\hat{\\sigma}_y^{(j)}$$\n",
    "$$\\hat{H}_1 = J_x\\hat{\\sigma}_x^{(i)} \\otimes \\hat{\\sigma}_x^{(j)}$$\n",
    "\n",
    "The principle is the same. However, a previous step is to change to the eigenbasis of the Hamiltonian. This can be easily done by applying Hadamard gates and a suitable 1-qubit rotation. In the following cells I define gates for performing time evolution under those Hamiltonians."
   ]
  },
  {
   "cell_type": "code",
   "execution_count": 50,
   "metadata": {},
   "outputs": [],
   "source": [
    "def H3TimeEvol(t):\n",
    "    '''\n",
    "    Gate for performing exact time\n",
    "    evolution of two_spin_half\n",
    "    system under H3 Hamiltonian\n",
    "    '''\n",
    "    qc_Demo = QuantumCircuit(3)\n",
    "    # Compute parity\n",
    "    qc_Demo.cx(0,2)\n",
    "    qc_Demo.cx(1,2)\n",
    "    # Perform rotation\n",
    "    qc_Demo.rz(Jz*t,2)\n",
    "    # Uncompute\n",
    "    qc_Demo.cx(0,2)\n",
    "    qc_Demo.cx(1,2)\n",
    "    # Transform to gate\n",
    "    U3_gate = qc_Demo.to_gate()\n",
    "    U3_gate.name = 'Uz'\n",
    "    return U3_gate\n",
    "\n",
    "def H2TimeEvol(t):\n",
    "    '''\n",
    "    Gate for performing exact time\n",
    "    evolution of two_spin_half\n",
    "    system under H1 Hamiltonian\n",
    "    '''\n",
    "    qc_Demo = QuantumCircuit(3)\n",
    "    # Change to Eigenbasis\n",
    "    qc_Demo.sdg(0); qc_Demo.sdg(1)\n",
    "    qc_Demo.h(0); qc_Demo.h(1)\n",
    "    # Compute parity\n",
    "    qc_Demo.cx(0,2)\n",
    "    qc_Demo.cx(1,2)\n",
    "    # Perform rotation\n",
    "    qc_Demo.rz(Jx*t,2)\n",
    "    # Uncompute\n",
    "    qc_Demo.cx(0,2)\n",
    "    qc_Demo.cx(1,2)\n",
    "    # Change to computational basis\n",
    "    qc_Demo.h(0); qc_Demo.h(1)\n",
    "    qc_Demo.s(0); qc_Demo.s(1)\n",
    "    # Transform to gate\n",
    "    U2_gate = qc_Demo.to_gate()\n",
    "    U2_gate.name = 'Uy'\n",
    "    return U2_gate\n",
    "    \n",
    "def H1TimeEvol(t):\n",
    "    '''\n",
    "    Gate for performing exact time\n",
    "    evolution of two_spin_half\n",
    "    system under H1 Hamiltonian\n",
    "    '''\n",
    "    qc_Demo = QuantumCircuit(3)\n",
    "    # Change to Eigenbasis\n",
    "    qc_Demo.h(0); qc_Demo.h(1)\n",
    "    # Compute parity\n",
    "    qc_Demo.cx(0,2)\n",
    "    qc_Demo.cx(1,2)\n",
    "    # Perform rotation\n",
    "    qc_Demo.rz(Jx*t,2)\n",
    "    # Uncompute\n",
    "    qc_Demo.cx(0,2)\n",
    "    qc_Demo.cx(1,2)\n",
    "    # Return to computational basis\n",
    "    qc_Demo.h(0); qc_Demo.h(1)\n",
    "    # Transform to gate\n",
    "    U1_gate = qc_Demo.to_gate()\n",
    "    U1_gate.name = 'Ux'\n",
    "    return U1_gate"
   ]
  },
  {
   "cell_type": "markdown",
   "metadata": {},
   "source": [
    "These gates allow time simulation under each of the partitions of the two-spin-half system. However, these sub-Hamiltonians do not commute, and thus an approximation scheme is needed to perform time simulation. The simplest is to apply the first iteration of a **Susuki - Trotter Scheme**:\n",
    "\n",
    "$$\\hat{U}_{ij}(t) \\approx \\hat{U}_1(t/2)\\hat{U}_3(t/2)\\hat{U}_3(t)\\hat{U}_2(t/2)\\hat{U}_1(t/2) + \\mathcal{O}(t^2)$$\n",
    "\n",
    "In the next cell I define a gate for performing *approximate time evolution* under two-spin-half system Hamiltonian."
   ]
  },
  {
   "cell_type": "code",
   "execution_count": 52,
   "metadata": {},
   "outputs": [],
   "source": [
    "def HijTrotter(t):\n",
    "    '''\n",
    "    Gate for performing approximate\n",
    "    time evolution of two_spin_half\n",
    "    system under Hij Hamiltonian\n",
    "    '''\n",
    "    qc_Demo = QuantumCircuit(3)\n",
    "    # Define gates\n",
    "    U1, U2, U3 = H1TimeEvol(t/2), H3TimeEvol(t/2), H3TimeEvol(t)\n",
    "    # Append gates (look for a more compact code in the future)\n",
    "    qc_Demo.append(U1,range(3))\n",
    "    qc_Demo.append(U2,range(3))\n",
    "    qc_Demo.append(U3,range(3))\n",
    "    qc_Demo.append(U2,range(3))\n",
    "    qc_Demo.append(U1,range(3))\n",
    "    # Convert to gate\n",
    "    Ut_gate = qc_Demo.to_gate()\n",
    "    Ut_gate.name = 'Uij_Trot'\n",
    "    return Ut_gate"
   ]
  },
  {
   "cell_type": "markdown",
   "metadata": {},
   "source": [
    "I include the following cells for comparing time evolution with the algorithm proposed in this notebook."
   ]
  },
  {
   "cell_type": "code",
   "execution_count": 53,
   "metadata": {},
   "outputs": [
    {
     "data": {
      "image/png": "[encoded data removed]",
      "text/plain": [
       "<Figure size 381.577x204.68 with 1 Axes>"
      ]
     },
     "execution_count": 53,
     "metadata": {},
     "output_type": "execute_result"
    }
   ],
   "source": [
    "# Create quantum circuit to assess time simulation\n",
    "qc_Time = QuantumCircuit(3)\n",
    "# initialize qubits\n",
    "qc_Time.initialize(init_state,range(2))\n",
    "Uij = HijTrotter(t)\n",
    "qc_Time.append(Uij,range(3))\n",
    "qc_Time.draw()"
   ]
  },
  {
   "cell_type": "code",
   "execution_count": 54,
   "metadata": {},
   "outputs": [
    {
     "data": {
      "text/latex": [
       "$\\displaystyle \n",
       "|\\psi_i\\rangle = \\begin{bmatrix}\n",
       "0 \\\\\n",
       "-\\tfrac{1}{\\sqrt{2}} \\\\\n",
       "\\tfrac{1}{\\sqrt{2}} \\\\\n",
       "0\n",
       "\\end{bmatrix}\n",
       "$"
      ],
      "text/plain": [
       "<IPython.core.display.Math object>"
      ]
     },
     "metadata": {},
     "output_type": "display_data"
    },
    {
     "data": {
      "text/latex": [
       "$\\displaystyle \n",
       "|\\psi_f\\rangle = \\begin{bmatrix}\n",
       "0 \\\\\n",
       "0 \\\\\n",
       "0 \\\\\n",
       "0\n",
       "\\end{bmatrix}\n",
       "$"
      ],
      "text/plain": [
       "<IPython.core.display.Math object>"
      ]
     },
     "metadata": {},
     "output_type": "display_data"
    }
   ],
   "source": [
    "# Simulate quantum circuit using statevector_simulator\n",
    "final_state = execute(qc_Time,backend).result().get_statevector()\n",
    "\n",
    "# print initial state and final state\n",
    "array_to_latex(init_state,pretext=\"|\\\\psi_i\\\\rangle = \")\n",
    "array_to_latex(final_state[0:4],pretext=\"|\\\\psi_f\\\\rangle = \")"
   ]
  },
  {
   "cell_type": "code",
   "execution_count": null,
   "metadata": {},
   "outputs": [],
   "source": []
  }
 ],
 "metadata": {
  "kernelspec": {
   "display_name": "Python 3",
   "language": "python",
   "name": "python3"
  },
  "language_info": {
   "codemirror_mode": {
    "name": "ipython",
    "version": 3
   },
   "file_extension": ".py",
   "mimetype": "text/x-python",
   "name": "python",
   "nbconvert_exporter": "python",
   "pygments_lexer": "ipython3",
   "version": "3.8.3"
  }
 },
 "nbformat": 4,
 "nbformat_minor": 4
}
