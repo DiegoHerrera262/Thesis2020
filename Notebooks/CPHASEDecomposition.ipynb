{
 "cells": [
  {
   "cell_type": "code",
   "execution_count": 1,
   "id": "minus-transcription",
   "metadata": {},
   "outputs": [],
   "source": [
    "import numpy as np"
   ]
  },
  {
   "cell_type": "code",
   "execution_count": 62,
   "id": "rocky-preservation",
   "metadata": {},
   "outputs": [],
   "source": [
    "## Definition of Pauli Matrices\n",
    "Pauli0 = np.matrix([\n",
    "    [1,0],\n",
    "    [0,1]\n",
    "])\n",
    "PauliX = np.matrix([\n",
    "    [0,1],\n",
    "    [1,0]\n",
    "])\n",
    "PauliY = np.matrix([\n",
    "    [0,-1j],\n",
    "    [1j,0]\n",
    "])\n",
    "PauliZ = np.matrix([\n",
    "    [1,0],\n",
    "    [0,-1]\n",
    "])\n",
    "PauliMats = [Pauli0, PauliX, PauliY, PauliZ]\n",
    "## Definition of 2 qubit unitary ops basis\n",
    "TwoQubitPauliOps = [[np.kron(Pop1,Pop2) for Pop2 in PauliMats]\\\n",
    "                    for Pop1 in PauliMats]"
   ]
  },
  {
   "cell_type": "code",
   "execution_count": 63,
   "id": "mineral-andrews",
   "metadata": {},
   "outputs": [],
   "source": [
    "## Definition of Inner product\n",
    "def inprod(A,B):\n",
    "    return np.trace(np.matmul(A.getH(),B))\n",
    "## Obtain expansion coefficients for matirx\n",
    "def PauliBasisRep(A):\n",
    "    ## Computation of expansion coefficients\n",
    "    ExpCoefs = []\n",
    "    for OpsList in TwoQubitPauliOps:\n",
    "        coefs = []\n",
    "        for Op in OpsList:\n",
    "            coefs.append(inprod(Op,A))\n",
    "        ExpCoefs.append(coefs)\n",
    "    ## return expansion coefficients\n",
    "    return ExpCoefs"
   ]
  },
  {
   "cell_type": "code",
   "execution_count": 64,
   "id": "atlantic-intellectual",
   "metadata": {},
   "outputs": [],
   "source": [
    "## Definition of CNOT matrix\n",
    "CNOT = np.matrix([\n",
    "    [1,0,0,0],\n",
    "    [0,1,0,0],\n",
    "    [0,0,0,1],\n",
    "    [0,0,1,0]\n",
    "])"
   ]
  },
  {
   "cell_type": "code",
   "execution_count": 69,
   "id": "neither-facility",
   "metadata": {},
   "outputs": [
    {
     "name": "stdout",
     "output_type": "stream",
     "text": [
      "[[ 2.  2.  0.  0.]\n",
      " [ 0.  0.  0.  0.]\n",
      " [ 0.  0.  0.  0.]\n",
      " [ 2. -2.  0.  0.]]\n"
     ]
    }
   ],
   "source": [
    "## Computation of expansion coefficients\n",
    "ExpCoefs = np.matrix(PauliBasisRep(CNOT))\n",
    "print(ExpCoefs.real)"
   ]
  },
  {
   "cell_type": "code",
   "execution_count": 66,
   "id": "choice-walnut",
   "metadata": {},
   "outputs": [
    {
     "name": "stdout",
     "output_type": "stream",
     "text": [
      "[[1. 0. 0. 0.]\n",
      " [0. 1. 0. 0.]\n",
      " [0. 0. 0. 1.]\n",
      " [0. 0. 1. 0.]]\n"
     ]
    }
   ],
   "source": [
    "CNOT_SUM = np.matrix(np.zeros((4,4)))\n",
    "for idx in range(4):\n",
    "    for jdx in range(4):\n",
    "        CNOT_SUM = CNOT_SUM + 1/4 * ExpCoefs[idx, jdx] * TwoQubitPauliOps[idx][jdx]\n",
    "## Print hypotetic result\n",
    "print(CNOT_SUM.real)"
   ]
  },
  {
   "cell_type": "code",
   "execution_count": 67,
   "id": "institutional-appendix",
   "metadata": {},
   "outputs": [
    {
     "name": "stdout",
     "output_type": "stream",
     "text": [
      "[ 1. -1.  1.  1.]\n",
      "[[ 0.          0.          1.          0.        ]\n",
      " [ 0.          0.          0.          1.        ]\n",
      " [ 0.70710678 -0.70710678  0.          0.        ]\n",
      " [ 0.70710678  0.70710678  0.          0.        ]]\n"
     ]
    }
   ],
   "source": [
    "Eigvals, Eigvecs = np.linalg.eig(CNOT)\n",
    "print(Eigvals)\n",
    "print(Eigvecs)"
   ]
  },
  {
   "cell_type": "code",
   "execution_count": 68,
   "id": "quality-danish",
   "metadata": {},
   "outputs": [
    {
     "name": "stdout",
     "output_type": "stream",
     "text": [
      "[[ 0.          0.          0.          0.        ]\n",
      " [ 0.          0.          0.          0.        ]\n",
      " [ 0.          0.          1.57079633 -1.57079633]\n",
      " [ 0.          0.         -1.57079633  1.57079633]]\n"
     ]
    }
   ],
   "source": [
    "## Eigenvalues of generating Hamiltonian\n",
    "HamVals = [0, np.pi, 0, 0]\n",
    "## Diagonal matrix of generating Hamiltonian\n",
    "Hdiag = np.diag(HamVals)\n",
    "## Computational basis representation of gen. Ham.\n",
    "H = np.matmul(np.matmul(Eigvecs,Hdiag),Eigvecs.getH())\n",
    "## Print generating Hamiltonian\n",
    "print(H)"
   ]
  },
  {
   "cell_type": "code",
   "execution_count": 53,
   "id": "central-terrain",
   "metadata": {},
   "outputs": [
    {
     "name": "stdout",
     "output_type": "stream",
     "text": [
      "[[ 0.78539816 -0.78539816  0.          0.        ]\n",
      " [ 0.          0.          0.          0.        ]\n",
      " [ 0.          0.          0.          0.        ]\n",
      " [-0.78539816  0.78539816  0.          0.        ]]\n"
     ]
    }
   ],
   "source": [
    "HamCoefs = 1/4 * np.matrix(PauliBasisRep(H))\n",
    "print(HamCoefs.real)"
   ]
  }
 ],
 "metadata": {
  "kernelspec": {
   "display_name": "Python 3",
   "language": "python",
   "name": "python3"
  },
  "language_info": {
   "codemirror_mode": {
    "name": "ipython",
    "version": 3
   },
   "file_extension": ".py",
   "mimetype": "text/x-python",
   "name": "python",
   "nbconvert_exporter": "python",
   "pygments_lexer": "ipython3",
   "version": "3.8.8"
  }
 },
 "nbformat": 4,
 "nbformat_minor": 5
}
