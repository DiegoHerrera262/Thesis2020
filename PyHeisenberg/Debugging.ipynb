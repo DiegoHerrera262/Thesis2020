{
 "cells": [
  {
   "cell_type": "code",
   "execution_count": 1,
   "metadata": {},
   "outputs": [],
   "source": [
    "from PyHeisenberg import HeisenbergGraph\n",
    "import auxiliaryRoutines as aux"
   ]
  },
  {
   "cell_type": "code",
   "execution_count": 2,
   "metadata": {},
   "outputs": [],
   "source": [
    "from qiskit import QuantumCircuit, QuantumRegister, ClassicalRegister\n",
    "from qiskit import IBMQ, execute, Aer"
   ]
  },
  {
   "cell_type": "code",
   "execution_count": 17,
   "metadata": {},
   "outputs": [],
   "source": [
    "testGraph = HeisenbergGraph(\n",
    "    spinInteractions={\n",
    "        (0, 1): [1, 0.6, 7],\n",
    "        (0, 2): [1, 0.6, 7],\n",
    "        (0, 3): [1, 0.6, 7],\n",
    "    },\n",
    "    externalField={\n",
    "        0: [0.2, 0.5, 0.9],\n",
    "        1: [0.2, 0.5, 0.8],\n",
    "        2: [0.2, 0.5, 0.5],\n",
    "        3: [0.2, 0.5, 0.1],\n",
    "    },\n",
    "    localSimulation=True,\n",
    "    backendName='qasm_simulator',\n",
    ")\n"
   ]
  },
  {
   "cell_type": "code",
   "execution_count": 14,
   "metadata": {},
   "outputs": [
    {
     "data": {
      "text/plain": [
       "'XY'"
      ]
     },
     "execution_count": 14,
     "metadata": {},
     "output_type": "execute_result"
    }
   ],
   "source": [
    "aux.twoSpinPauliProductString(2, testGraph.graph.es[0], 'XY')"
   ]
  },
  {
   "cell_type": "code",
   "execution_count": 19,
   "metadata": {},
   "outputs": [
    {
     "name": "stdout",
     "output_type": "stream",
     "text": [
      "     \n",
      "q_0: \n",
      "     \n",
      "q_1: \n",
      "     \n",
      "q_2: \n",
      "     \n",
      "q_3: \n",
      "     \n"
     ]
    }
   ],
   "source": [
    "demoQNN = QuantumCircuit(4)\n",
    "# demoQNN.x(1)\n",
    "# demoQNN.h(1)\n",
    "# demoQNN.h(1)\n",
    "print(demoQNN)"
   ]
  },
  {
   "cell_type": "code",
   "execution_count": 20,
   "metadata": {},
   "outputs": [
    {
     "name": "stdout",
     "output_type": "stream",
     "text": [
      "23.3\n",
      "23.2734375\n"
     ]
    }
   ],
   "source": [
    "print(testGraph.exactHamiltonianExpVal())\n",
    "print(testGraph.quantumHamiltonianExpVal(demoQNN))"
   ]
  }
 ],
 "metadata": {
  "interpreter": {
   "hash": "8140f84c6fe8d17603ae09dbd93b118059df2aa94797e85dea8605f6701c934d"
  },
  "kernelspec": {
   "display_name": "Python 3.9.6 64-bit ('Thesis2020': conda)",
   "name": "python3"
  },
  "language_info": {
   "codemirror_mode": {
    "name": "ipython",
    "version": 3
   },
   "file_extension": ".py",
   "mimetype": "text/x-python",
   "name": "python",
   "nbconvert_exporter": "python",
   "pygments_lexer": "ipython3",
   "version": "3.9.6"
  },
  "orig_nbformat": 4
 },
 "nbformat": 4,
 "nbformat_minor": 2
}
