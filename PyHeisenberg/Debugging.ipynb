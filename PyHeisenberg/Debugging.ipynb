{
 "cells": [
  {
   "cell_type": "code",
   "execution_count": 1,
   "source": [
    "from PyHeisenberg import HeisenbergGraph\n",
    "import numpy as np"
   ],
   "outputs": [],
   "metadata": {}
  },
  {
   "cell_type": "code",
   "execution_count": 2,
   "source": [
    "from qiskit import QuantumCircuit, QuantumRegister, ClassicalRegister\n",
    "from qiskit import IBMQ, execute, Aer"
   ],
   "outputs": [],
   "metadata": {}
  },
  {
   "cell_type": "code",
   "execution_count": null,
   "source": [
    "testGraph = HeisenbergGraph(\n",
    "    spinInteractions={\n",
    "        (0, 1): [0.5, 0.2, 0.7],\n",
    "    },\n",
    "    externalField={\n",
    "        0: [1.0, 0.0, 1.0],\n",
    "        1: [1.0, 0.8, 1.0],\n",
    "    },\n",
    "    localSimulation=True,\n",
    "    backendName='qasm_simulator'\n",
    ")\n"
   ],
   "outputs": [],
   "metadata": {}
  }
 ],
 "metadata": {
  "orig_nbformat": 4,
  "language_info": {
   "name": "python",
   "version": "3.9.6",
   "mimetype": "text/x-python",
   "codemirror_mode": {
    "name": "ipython",
    "version": 3
   },
   "pygments_lexer": "ipython3",
   "nbconvert_exporter": "python",
   "file_extension": ".py"
  },
  "kernelspec": {
   "name": "python3",
   "display_name": "Python 3.9.6 64-bit ('Thesis2020': conda)"
  },
  "interpreter": {
   "hash": "8140f84c6fe8d17603ae09dbd93b118059df2aa94797e85dea8605f6701c934d"
  }
 },
 "nbformat": 4,
 "nbformat_minor": 2
}