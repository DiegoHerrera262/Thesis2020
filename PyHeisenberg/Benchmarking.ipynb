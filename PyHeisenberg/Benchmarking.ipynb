{
 "cells": [
  {
   "cell_type": "markdown",
   "metadata": {},
   "source": [
    "# Algorithm Benchmarking with QASM Simulations\n",
    "\n",
    "The purpose of this notebook is to evaluate the performance of the implemented quantum time evolution algorithm. The common evaluated criteria are circuit depth and state fidelity. For QASM simulations, the metrics to be evaluated are\n",
    "\n",
    "> 1. **Circuit depth**\n",
    "> 1. **Trace distance**\n",
    "\n",
    "In this notebooks, data is generated using Qiskit, and analyzed to find an expected relation between _evolution time_, _expected fidelity_ and _number of integration steps_. So first, It is wise to start with a little summary about the general results of quantum time evolution as presented by [1], then proceed to demonstrate how to use the devised routines for simulating a generic spin graph, and finally, produce some plots that show the actual performance of the programmed algorithm."
   ]
  },
  {
   "cell_type": "markdown",
   "metadata": {},
   "source": [
    "## General Quantum Time Simulation Theory\n",
    "\n",
    "In this project, a second order Trotter scheme is proposed to estimate evolution of a spin system. Consider a Hamiltonian that can be written as the sum of _local Hamiltonians_ (acting on a small subsystem at a time).\n",
    "\n",
    "$$\n",
    "\\hat{H} = \\sum_{i=1}^{l} \\hat{H}_i\n",
    "$$\n",
    "\n",
    "By direct computation, it is possible to show that\n",
    "\n",
    "$$\n",
    "\\mathrm{e}^{-\\mathrm{i}t\\hat{H}} = \\prod_{i=1}^{l} \\mathrm{e}^{-\\mathrm{i}t\\hat{H}_i} + \\mathcal{O}(t^2)\n",
    "$$\n",
    "\n",
    "Now, if evolution is carried out over a small enough period of time, then the difference between the right hand side and the left hand side is small. This leads to an integration scheme that relies on the implementation of local evolution operators, that is capable of simulate complex correlation in a quantum system, as long as it arises from small-subsystem interactions."
   ]
  },
  {
   "cell_type": "markdown",
   "metadata": {},
   "source": [
    "### Efficiency of Quantum Time Simulation Algorithms\n",
    "\n",
    "Berry et. atl. [1] have already considered the general error theory of Suzuki-Trotter schemes, and te minimal amount of resources required to simulate a quantum system. First, let's discuss the expected number of operations required to obtain a desired error bound, for a given simulation time, and then, the minimal amount of resources required to simulate a given quantum system.\n",
    "\n",
    "In their paper, Berry et. al. demonstrate that the expected number of steps (as measured by the number of exponentials required to implement a $k$-th order Suzuki-Trotter scheme) is bounded by a power law\n",
    "\n",
    "$$\n",
    "N \\leq A_k \\frac{t^{1+1/2k}}{\\epsilon^{1/2k}}\n",
    "$$\n",
    "\n",
    "It is interesting, as they point out, that there is an optimal order for the integration scheme. However, the main takeaway here, at least by now, is that\n",
    "\n",
    "> There exists a power law that relates the number of steps, integration time and error bound, or a given quantum system.\n",
    "\n",
    "And so, this is what will be sought when benchmarking the proposed algorithm.\n",
    "\n",
    "Finally, Berry et. al. point out that any Hamiltonian (at least of practical interest) may be simulated by a quantum algorithm using at least a linear amount of steps. Now, the remarkable part, at least for the purpose of this project is that\n",
    "\n",
    "> If a simulation algorithm uses an amount of steps that scales linearly with time for given precision, then it is almost optimal. At least within a constant factor that can be optimized."
   ]
  },
  {
   "cell_type": "markdown",
   "metadata": {},
   "source": [
    "## Structure of the Notebook\n",
    "\n",
    "This notebook is structured as follows. First, results obtained by Salathé et. al. and Las Heras et. al. are reproduced to show the correctness of the algorithms proposed. Simulations are carried out on `ibmq_quito`, and measurement error mitigation is implemented as well. After that, average quantum process fidelities of time evolution, over the model parameters, are computed for a system of 4 qubits. Simulations are carried out using `qasm_simulator` to assess the fault-tolerant limitations of the evolution algorithms proposed. Finally, quantum process fidelities are computed using a noisy model of `ibmq_quito` and QASM simulators, to assess the NISQ limitations of this algorithms.\n",
    "\n",
    "Let's start by importing the necessary packages"
   ]
  },
  {
   "cell_type": "code",
   "execution_count": 33,
   "metadata": {},
   "outputs": [],
   "source": [
    "from PyHeisenberg import HeisenbergGraph, DataAnalyzer, PulseSpinGraph\n",
    "import numpy as np\n",
    "import matplotlib.pyplot as plt\n",
    "import warnings\n",
    "from operator import itemgetter\n",
    "warnings.filterwarnings('ignore')\n",
    "plt.style.use('FigureStyle.mplstyle')"
   ]
  },
  {
   "cell_type": "markdown",
   "metadata": {},
   "source": [
    "## Reproduction of results obtained by Salathé et. al.\n",
    "\n",
    "In this section, a two-spin isotropic Heisenberg model is simulated using the networks proposed in the main document. This Hamiltonian corresponds to\n",
    "\n",
    "$$\n",
    "\\hat{H} = J(\\hat{X}_1\\hat{X}_2 + \\hat{Y}_1\\hat{Y}_2 + \\hat{Z}_1\\hat{Z}_2)\n",
    "$$\n",
    "\n",
    "Following the group's work, the initial state\n",
    "\n",
    "$$\n",
    "|\\psi_0\\rangle = |+\\rangle\\otimes|0\\rangle\n",
    "$$\n",
    "\n",
    "Is evolved for a time $t=3 \\pi /4$, when $J = 1$. Time series of the expected values of single-qubit Pauli operators are generated and compared to results obtained by direct diagonalization of the Hamiltonian. The time interval is partitioned on $12$ equally spaced intervals."
   ]
  },
  {
   "cell_type": "markdown",
   "metadata": {},
   "source": [
    "### Definition of the Graph Object\n",
    "\n",
    "As mentioned on the main text, the Hamiltonian gives rise to a graph that is used to store the information of the spin-spin and field-spin interactions. More parameters such as the execution backend, initial state and noise activation are included as well."
   ]
  },
  {
   "cell_type": "code",
   "execution_count": 21,
   "metadata": {},
   "outputs": [],
   "source": [
    "testGraph = HeisenbergGraph(\n",
    "    spinInteractions={\n",
    "        (0, 1): [1, 1, 1],\n",
    "    },\n",
    "    externalField={\n",
    "        0: [0.0, 0.0, 0.0],\n",
    "        1: [0.0, 0.0, 0.0],\n",
    "    },\n",
    "    localSimulation=False,\n",
    "    backendName='ibmq_jakarta',\n",
    "    noisySimulation=False,\n",
    "    initialState=1/np.sqrt(2) * np.array([1, 0, 1, 0])\n",
    ")\n",
    "testAnalyzer = DataAnalyzer(spinGraph=testGraph)"
   ]
  },
  {
   "cell_type": "markdown",
   "metadata": {},
   "source": [
    "### Computation of Exact Evolution Time Series\n",
    "\n",
    "These correspond to direct diagonalization using Numpy. By default, 200 steps are used for producing a somewhat smooth theoretical curve of the evolution of expected values of a Pauli string operator."
   ]
  },
  {
   "cell_type": "code",
   "execution_count": 22,
   "metadata": {},
   "outputs": [],
   "source": [
    "pauliStrings = ['XI', 'IX', 'YI', 'IY', 'ZI', 'IZ']\n",
    "timesEx, resultSeriesExact = testGraph.exactPauliExpValSeries(\n",
    "    pauliStrings,\n",
    "    t = 3*np.pi/4\n",
    ")\n",
    "ExX1, ExX2, ExY1, ExY2, ExZ1, ExZ2 = itemgetter(*pauliStrings)(resultSeriesExact)"
   ]
  },
  {
   "cell_type": "markdown",
   "metadata": {},
   "source": [
    "### Computation of Experimental Evolution Time Series\n",
    "\n",
    "These correspond to quantum time simulation using algorithms descried on the main text. By default, 200 steps are used for producing a somewhat smooth experimental curve of the evolution of expected values of a Pauli string operator. Due to decoherence and gate errors, it is suggested that no more than 20 steps for simulating time evolution on real quantum devices.\n",
    "\n",
    "To mitigate readout errors, a special technique is used. It uses a markovian model for correcting possible bit filp errors on readout. It is implemented on this notebook using `qiskit.ignis`."
   ]
  },
  {
   "cell_type": "markdown",
   "metadata": {},
   "source": [
    "#### Measurement error mitigation\n",
    "\n",
    "To apply measurement error mitigation, generate a sequence of quantum circuits to measure the readout errors when preparing states of the computational basis. Then fit an evolution matrix for assessing the transition probabilities, and define a filter for correction results of future algorithm's execution. This is done by `qiskit.ignis`."
   ]
  },
  {
   "cell_type": "code",
   "execution_count": 8,
   "metadata": {},
   "outputs": [
    {
     "name": "stdout",
     "output_type": "stream",
     "text": [
      "Job Status: job has successfully run\n"
     ]
    }
   ],
   "source": [
    "measurementFitter = testGraph.getCalibrationFitter()"
   ]
  },
  {
   "cell_type": "markdown",
   "metadata": {},
   "source": [
    "#### Computation of Time Series on IBM Quantum\n",
    "\n",
    "Due to current limitations of cloud-based quantum computing, the `HeisenbergGraph` class optimizes the process of running quantum circuits on real quantum deices. It is recommended that the following routine be used for computing time series of expected value of Pauli string observables. The function returns `ndarray`s, which can be linearly combined to compute time series of generic quantum operators."
   ]
  },
  {
   "cell_type": "code",
   "execution_count": 19,
   "metadata": {},
   "outputs": [
    {
     "name": "stdout",
     "output_type": "stream",
     "text": [
      "Job Status: job has successfully run\n"
     ]
    }
   ],
   "source": [
    "times, resultSeries = testGraph.pauliExpValSeries(\n",
    "    pauliStrings,\n",
    "    MAX_STEPS = 12,\n",
    "    t = 3*np.pi/4,\n",
    "    measurementFitter= measurementFitter\n",
    ")\n",
    "X1, X2, Y1, Y2, Z1, Z2 = itemgetter(*pauliStrings)(resultSeries)"
   ]
  },
  {
   "cell_type": "markdown",
   "metadata": {},
   "source": [
    "What follows is to plot the experimental results. A comparative plot of theoretical values an experimental values is presented on this cell. Since time evolution of this system is exact, the experimental points (scatter plots) resemble quite well the theoretical curves (dashed lines). Red datasets corresponds to the second spin's observables, whereas the blu datasets corresponds to the first spin's observables.\n",
    "\n",
    "**Important:** During simulations, the specifications of the QPU were\n",
    "\n",
    "|$T_1$|$T_2$|CNOT err.|Readout err.|\n",
    "|:-:|:-:|:-:|:-:|\n",
    "|103.34 us|124.79 us|1.931e-2|3.070e-2|\n",
    "\n",
    "Measurement error mitigation is optional. However, it is highly recommended. Since `Qiskit Runtime` is still on beta, this project doesn't rely on that architecture."
   ]
  },
  {
   "cell_type": "code",
   "execution_count": 20,
   "metadata": {},
   "outputs": [
    {
     "data": {
      "image/png": "[encoded data removed]",
      "text/plain": [
       "<Figure size 432x288 with 3 Axes>"
      ]
     },
     "metadata": {
      "needs_background": "light"
     },
     "output_type": "display_data"
    }
   ],
   "source": [
    "fig, (axX, axY, axZ) = plt.subplots(1,3)\n",
    "axX.plot(times, X1, 'ro', times, X2, 'bo')\n",
    "axX.plot(timesEx, ExX1, color='red', linewidth=2, linestyle='dashed')\n",
    "axX.plot(timesEx, ExX2, color='blue', linewidth=2, linestyle='dashed')\n",
    "axX.set_title(r\"$\\langle\\hat{X}_i\\rangle$\")\n",
    "axX.set_xlabel(r\"$t$ (u. a.)\")\n",
    "axX.set_aspect('equal')\n",
    "axX.set_ylim([-1.1, 1.1])\n",
    "axY.plot(times, Y1, 'ro', times, Y2, 'bo')\n",
    "axY.plot(timesEx, ExY1, color='red', linewidth=2, linestyle='dashed')\n",
    "axY.plot(timesEx, ExY2, color='blue', linewidth=2, linestyle='dashed')\n",
    "axY.set_title(r\"$\\langle\\hat{Y}_i\\rangle$\")\n",
    "axY.set_xlabel(r\"$t$ (u. a.)\")\n",
    "axY.set_aspect('equal')\n",
    "axY.set_ylim([-1.1, 1.1])\n",
    "axZ.plot(times, Z1, 'ro', times, Z2, 'bo')\n",
    "axZ.plot(timesEx, ExZ1, color='red', linewidth=2, linestyle='dashed')\n",
    "axZ.plot(timesEx, ExZ2, color='blue', linewidth=2, linestyle='dashed')\n",
    "axZ.set_title(r\"$\\langle\\hat{Z}_i\\rangle$\")\n",
    "axZ.set_xlabel(r\"$t$ (u. a.)\")\n",
    "axZ.set_aspect('equal')\n",
    "axZ.set_ylim([-1.1, 1.1])\n",
    "fig.savefig('XYZModel_HerasEtAl.pdf')\n",
    "plt.show()\n"
   ]
  },
  {
   "cell_type": "markdown",
   "metadata": {},
   "source": [
    "## Reproduction of results of Las Heras et. al. and Salathé et. al.\n",
    "\n",
    "In this section, the two-spin transverse field Ising model, \n",
    "\n",
    "$$\n",
    "\\hat{H} = \\frac{V}{2}(\\hat{X}_1\\hat{X}_2 + \\hat{Y}_1\\hat{Y}_2 + \\hat{Z}_1\\hat{Z}_2) + \\frac{U}{4}(\\hat{Z}_1 + \\hat{Z}_2)\n",
    "$$\n",
    "\n",
    "with $V = U = 1$, is simulated over a time $\\tau = 5$. The initial state is set to\n",
    "\n",
    "$$\n",
    "|\\psi_0\\rangle = |+\\rangle\\otimes|0\\rangle\n",
    "$$\n",
    "\n",
    "Simulations are carried out using `ibmq_quito`, and error correction. First, a graph object is instantiated with the desired parameter values ($J=1$). Spin interactions are defined as a dictionary with a tuple key that points the index of the involved sites, and a value that has the interaction parameters as defined on the main document. Filed interactions are described y a dictionary whose key is the site index, and its value is an iterable that has the cartesian components of the local field, as defined on the main text."
   ]
  },
  {
   "cell_type": "markdown",
   "metadata": {},
   "source": [
    "A comparative evolution plot is generated using the `dataAnalyzer` object. The number of Trotter steps is taken to be $N = 8$. However, this can be changed at will."
   ]
  },
  {
   "cell_type": "code",
   "execution_count": 5,
   "metadata": {},
   "outputs": [],
   "source": [
    "isingGraph = HeisenbergGraph(\n",
    "    spinInteractions={\n",
    "        (0, 1): [0.5, 0.5, 0.5],\n",
    "    },\n",
    "    externalField={\n",
    "        0: [0.0, 0.0, 0.25],\n",
    "        1: [0.0, 0.0, 0.25],\n",
    "    },\n",
    "    localSimulation=False,\n",
    "    backendName='ibmq_jakarta',\n",
    "    noisySimulation=False,\n",
    "    initialState=1/np.sqrt(2) * np.array([1, 0, 1, 0])\n",
    ")\n",
    "isingAnalyzer = DataAnalyzer(spinGraph=isingGraph)"
   ]
  },
  {
   "cell_type": "markdown",
   "metadata": {},
   "source": [
    "### Evolution of occupation number\n",
    "\n",
    "Remember that each computational basis state can be mapped to an integer. This integer is shown on the plot legends. An excited fermionic mode is mapped to the ground state of a qubit $|1\\rangle$, and the ground fermionic mode to the excited state of a qubit $|0\\rangle$. Simulations were carried out on `ibmq_bogota`. Notice that, in this case, the occupation numbers are not so close to the theoretical values. This is due to many sources of errors. This will be addressed bellow. By now, those are stated\n",
    "\n",
    "1. Readout error\n",
    "1. Gate error (CNOT and $\\pi/2$-pulses)\n",
    "1. Qubit relaxation\n",
    "1. Decoherence nd thermal relaxation\n",
    "\n",
    "**Important:** During simulations, the specifications of the QPU were\n",
    "\n",
    "|$T_1$|$T_2$|CNOT err.|Readout err.|\n",
    "|:-:|:-:|:-:|:-:|\n",
    "|103.34 us|124.79 us|1.931e-2|3.070e-2|"
   ]
  },
  {
   "cell_type": "code",
   "execution_count": 9,
   "metadata": {},
   "outputs": [
    {
     "name": "stdout",
     "output_type": "stream",
     "text": [
      "Job Status: job has successfully run\n"
     ]
    },
    {
     "data": {
      "image/png": "[encoded data removed]",
      "text/plain": [
       "<Figure size 432x288 with 1 Axes>"
      ]
     },
     "metadata": {
      "needs_background": "light"
     },
     "output_type": "display_data"
    }
   ],
   "source": [
    "isingAnalyzer.comparativeEvolution(\n",
    "    STEPS=8, \n",
    "    t=5.0,\n",
    "    measurementFitter=measurementFitter,\n",
    "    figureFile='HubbardTwoMode_LasHeras.pdf'\n",
    ")"
   ]
  },
  {
   "cell_type": "markdown",
   "metadata": {},
   "source": [
    "## Simulation of a 3-Spin $XXX$ model\n",
    "\n",
    "As another way to demonstrate the utility of the trotterization scheme proposed, a three spin Hamiltonian\n",
    "\n",
    "$$\n",
    "\\hat{H} = \\sum_{i=0}^{1} \\bigg(\\hat{X}^{(i)}\\hat{X}^{(i+1)} + \\hat{Y}^{(i)}\\hat{Y}^{(i+1)} + \\hat{Z}^{(i)}\\hat{Z}^{(i+1)} \\bigg)\n",
    "$$\n",
    "\n",
    "Which is a generalization of the Hamiltonian simulated by Salathé et. al. Pretty much the same observables are measured. As before, a graph is instantiated, with the desired two-qubit interactions. SIMulations are carried out on `ibmq_jakarta`."
   ]
  },
  {
   "cell_type": "code",
   "execution_count": 42,
   "metadata": {},
   "outputs": [],
   "source": [
    "xGraph = HeisenbergGraph(\n",
    "    spinInteractions={\n",
    "        (0, 1): [1, 1, 1],\n",
    "        (1, 2): [1, 1, 1],\n",
    "    },\n",
    "    externalField={\n",
    "        0: [0.0, 0.0, 0.0],\n",
    "        1: [0.0, 0.0, 0.0],\n",
    "        2: [0.0, 0.0, 0.0],\n",
    "    },\n",
    "    localSimulation=False,\n",
    "    backendName='ibmq_jakarta',\n",
    "    noisySimulation=False,\n",
    "    initializeList=[1, 2]\n",
    ")\n",
    "xAnalyzer = DataAnalyzer(spinGraph=xGraph)\n"
   ]
  },
  {
   "cell_type": "markdown",
   "metadata": {},
   "source": [
    "After, the exact evolution of the expected value of single qubit Pauli operators is computed"
   ]
  },
  {
   "cell_type": "code",
   "execution_count": 43,
   "metadata": {},
   "outputs": [],
   "source": [
    "pauliStrings = [\n",
    "    'XII', 'IXI', 'IIX', \n",
    "    'YII', 'IYI', 'IIY',\n",
    "    'ZII', 'IZI', 'IIZ',\n",
    "]\n",
    "timesEx, resultSeriesExact = xGraph.exactPauliExpValSeries(\n",
    "    pauliStrings,\n",
    "    t=1\n",
    ")\n",
    "ExX1, ExX2, ExX3, ExY1, ExY2, ExY3, ExZ1, ExZ2, ExZ3 = itemgetter(\n",
    "    *pauliStrings)(resultSeriesExact)\n"
   ]
  },
  {
   "cell_type": "markdown",
   "metadata": {},
   "source": [
    "And a measurement error mitigation fitter is devised suited to the conditions of the backend."
   ]
  },
  {
   "cell_type": "code",
   "execution_count": 44,
   "metadata": {},
   "outputs": [
    {
     "name": "stdout",
     "output_type": "stream",
     "text": [
      "Job Status: job has successfully run\n"
     ]
    }
   ],
   "source": [
    "measurementFitter = xGraph.getCalibrationFitter()"
   ]
  },
  {
   "cell_type": "markdown",
   "metadata": {},
   "source": [
    "Finally, experimental data is captured on IBM Quantum's backend."
   ]
  },
  {
   "cell_type": "code",
   "execution_count": 45,
   "metadata": {},
   "outputs": [
    {
     "name": "stdout",
     "output_type": "stream",
     "text": [
      "Job Status: job has successfully run\n"
     ]
    }
   ],
   "source": [
    "times, resultSeries = xGraph.pauliExpValSeries(\n",
    "    pauliStrings,\n",
    "    MAX_STEPS=8,\n",
    "    t=1,\n",
    "    measurementFitter=measurementFitter\n",
    ")\n",
    "X1, X2, X3, Y1, Y2, Y3, Z1, Z2, Z3 = itemgetter(*pauliStrings)(resultSeries)"
   ]
  },
  {
   "cell_type": "code",
   "execution_count": 46,
   "metadata": {},
   "outputs": [
    {
     "data": {
      "image/png": "[encoded data removed]",
      "text/plain": [
       "<Figure size 432x288 with 3 Axes>"
      ]
     },
     "metadata": {
      "needs_background": "light"
     },
     "output_type": "display_data"
    }
   ],
   "source": [
    "fig, (axX, axY, axZ) = plt.subplots(1, 3)\n",
    "fig.tight_layout(pad=1.0)\n",
    "axX.plot(times, X1, 'ro', times, X2, 'bo', times, X3, 'ko')\n",
    "axX.plot(timesEx, ExX1, color='red', linewidth=2, linestyle='dashed')\n",
    "axX.plot(timesEx, ExX2, color='blue', linewidth=2, linestyle='dashed')\n",
    "axX.plot(timesEx, ExX3, color='black', linewidth=2, linestyle='dashed')\n",
    "axX.set_title(r\"$\\langle\\hat{X}_i\\rangle$\")\n",
    "axX.set_xlabel(r\"$t$ (u. a.)\")\n",
    "axX.set_aspect(aspect=0.5)\n",
    "axX.set_ylim([-1.1, 1.1])\n",
    "axY.plot(times, Y1, 'ro', times, Y2, 'bo', times, Y3, 'ko')\n",
    "axY.plot(timesEx, ExY1, color='red', linewidth=2, linestyle='dashed')\n",
    "axY.plot(timesEx, ExY2, color='blue', linewidth=2, linestyle='dashed')\n",
    "axY.plot(timesEx, ExY3, color='black', linewidth=2, linestyle='dashed')\n",
    "axY.set_title(r\"$\\langle\\hat{Y}_i\\rangle$\")\n",
    "axY.set_xlabel(r\"$t$ (u. a.)\")\n",
    "axY.set_aspect(aspect=0.5)\n",
    "axY.set_ylim([-1.1, 1.1])\n",
    "axZ.plot(times, Z1, 'ro', times, Z2, 'bo', times, Z3, 'ko')\n",
    "axZ.plot(timesEx, ExZ1, color='red', linewidth=2, linestyle='dashed')\n",
    "axZ.plot(timesEx, ExZ2, color='blue', linewidth=2, linestyle='dashed')\n",
    "axZ.plot(timesEx, ExZ3, color='black', linewidth=2, linestyle='dashed')\n",
    "axZ.set_title(r\"$\\langle\\hat{Z}_i\\rangle$\")\n",
    "axZ.set_xlabel(r\"$t$ (u. a.)\")\n",
    "axZ.set_aspect(aspect=0.5)\n",
    "axZ.set_ylim([-1.1, 1.1])\n",
    "fig.savefig('XYZModel_BasisEfficient.pdf')\n",
    "plt.show()\n"
   ]
  },
  {
   "cell_type": "markdown",
   "metadata": {},
   "source": [
    "As is readily seen, the results are poor. Specially for a large number of integration steps. The reason for this is decoherence and qubit relaxation. To the lowest level, quantum algorithms are implemented via microwave pulses acting on a superconducting chip. The duration of hose pulses, and its relation to coherence and qubit relaxation times, determines the fidelity of the evolution. The longer the pulse schedule that implements the algorithm, the worse the fidelity. Although the evolution algorithm here implemented is _basis efficient_, i. e. uses a small number of CNOT gates and single qubit rotations per integration step, it is not _pulse efficient_, i. e. the actual sequence of microwave pulses implemented on hardware is simply to long and decoherence and qubit relaxation prevent high fidelities.\n",
    "\n",
    "A more intelligent approach relies on implementations that not only are simple in the high level circuit model abstraction, but also imply a reduced the duration of its associated pulse schedule. IBM Quantum devices implement standard single qubit rotations with relatively high precision, and the bottleneck is mostly due to two-qubit gates. Such interactions are performed on hardware via **Cross-Resonance gates**\n",
    "\n",
    "$$\n",
    "\\hat{R}_{zx}(\\phi) = \\mathrm{e}^{-\\mathrm{i}\\phi\\hat{Z}\\otimes\\hat{X}}\n",
    "$$\n",
    "\n",
    "> Although IBM Quantum devices have a universal set that uses CNOT as entangling gate, on hardware, actual hardware, two-qubit interactions are performed via cross-resonance "
   ]
  },
  {
   "cell_type": "markdown",
   "metadata": {},
   "source": [
    "Notice that cross-resonance is very similar to the terms in the Hamiltonian, up to single qubit rotations. So, this seems to be the key for simulating spin systems with higher fidelity. This approach will be explored further in the future. By now, the limits of the proposed Trotterization scheme, and its relation with the target dynamics is discussed further."
   ]
  },
  {
   "cell_type": "markdown",
   "metadata": {},
   "source": [
    "### Simulation using Cross Resonance gates\n",
    "\n",
    "In this section, an evolution algorithm based on the cross resonance gate described above is tested. This is part of the Open Science Challenge from IBM. The first approach consists on using the `PassManager` object for preventing transpilation of RZX gates to basis gates, thus implementing them directly on hardware using microwave pulses. From trotterization benchmark, I have seen that at least a time step $dt \\approx 0.2 \\text{ u. a.}$ should be used for simulations to produce decent outcome. This is related to the particular Floquet dynamics at large time step."
   ]
  },
  {
   "cell_type": "code",
   "execution_count": 47,
   "metadata": {},
   "outputs": [],
   "source": [
    "pGraph = PulseSpinGraph(\n",
    "    spinInteractions={\n",
    "        (0, 1): [0, 0, 0],\n",
    "        (1, 2): [0, 0, 0],\n",
    "        (1, 3): [1, 1, 1],\n",
    "        (3, 5): [1, 1, 1],\n",
    "        (4, 5): [0, 0, 0],\n",
    "        (5, 6): [0, 0, 0],\n",
    "    },\n",
    "    externalField={\n",
    "        0: [0.0, 0.0, 0.0],\n",
    "        1: [0.0, 0.0, 0.0],\n",
    "        2: [0.0, 0.0, 0.0],\n",
    "        3: [0.0, 0.0, 0.0],\n",
    "        4: [0.0, 0.0, 0.0],\n",
    "        5: [0.0, 0.0, 0.0],\n",
    "        6: [0.0, 0.0, 0.0],\n",
    "    },\n",
    "    localSimulation=False,\n",
    "    backendName='ibmq_jakarta',\n",
    "    noisySimulation=False,\n",
    "    initializeList=[3,5]\n",
    ")\n",
    "pAnalyzer = DataAnalyzer(spinGraph=pGraph)\n"
   ]
  },
  {
   "cell_type": "code",
   "execution_count": 48,
   "metadata": {},
   "outputs": [],
   "source": [
    "pauliStrings = ['IXIIIII', 'IIIXIII', 'IIIIIXI', 'IYIIIII',\n",
    "                'IIIYIII', 'IIIIIYI', 'IZIIIII', 'IIIZIII', 'IIIIIZI']\n",
    "timesEx, resultSeriesExact = pGraph.exactPauliExpValSeries(\n",
    "    pauliStrings,\n",
    "    t=1\n",
    ")\n",
    "ExX1, ExX2, ExX3, ExY1, ExY2, ExY3, ExZ1, ExZ2, ExZ3 = itemgetter(\n",
    "    *pauliStrings)(resultSeriesExact)"
   ]
  },
  {
   "cell_type": "code",
   "execution_count": 49,
   "metadata": {},
   "outputs": [
    {
     "name": "stdout",
     "output_type": "stream",
     "text": [
      "Job Status: job has successfully run\n"
     ]
    }
   ],
   "source": [
    "measurementFitter = pGraph.getCalibrationFitter()"
   ]
  },
  {
   "cell_type": "code",
   "execution_count": 50,
   "metadata": {},
   "outputs": [
    {
     "name": "stdout",
     "output_type": "stream",
     "text": [
      "Job Status: job has successfully run\n"
     ]
    }
   ],
   "source": [
    "times, resultSeries = pGraph.pauliExpValSeries(\n",
    "    pauliStrings,\n",
    "    MAX_STEPS=8,\n",
    "    t=1,\n",
    "    measurementFitter=measurementFitter\n",
    ")\n",
    "X1, X2, X3, Y1, Y2, Y3, Z1, Z2, Z3 = itemgetter(*pauliStrings)(resultSeries)"
   ]
  },
  {
   "cell_type": "code",
   "execution_count": 51,
   "metadata": {},
   "outputs": [
    {
     "data": {
      "image/png": "[encoded data removed]",
      "text/plain": [
       "<Figure size 432x288 with 3 Axes>"
      ]
     },
     "metadata": {
      "needs_background": "light"
     },
     "output_type": "display_data"
    }
   ],
   "source": [
    "fig, (axX, axY, axZ) = plt.subplots(1, 3)\n",
    "axX.plot(times, X1, 'ro', times, X2, 'bo', times, X3, 'ko')\n",
    "axX.plot(timesEx, ExX1, color='red', linewidth=2, linestyle='dashed')\n",
    "axX.plot(timesEx, ExX2, color='blue', linewidth=2, linestyle='dashed')\n",
    "axX.plot(timesEx, ExX3, color='black', linewidth=2, linestyle='dashed')\n",
    "axX.set_title(r\"$\\langle\\hat{X}_i\\rangle$\")\n",
    "axX.set_xlabel(r\"$t$ (u. a.)\")\n",
    "axX.set_aspect(aspect=0.5)\n",
    "axX.set_ylim([-1.1, 1.1])\n",
    "axY.plot(times, Y1, 'ro', times, Y2, 'bo', times, Y3, 'ko')\n",
    "axY.plot(timesEx, ExY1, color='red', linewidth=2, linestyle='dashed')\n",
    "axY.plot(timesEx, ExY2, color='blue', linewidth=2, linestyle='dashed')\n",
    "axY.plot(timesEx, ExY3, color='black', linewidth=2, linestyle='dashed')\n",
    "axY.set_title(r\"$\\langle\\hat{Y}_i\\rangle$\")\n",
    "axY.set_xlabel(r\"$t$ (u. a.)\")\n",
    "axY.set_aspect(aspect=0.5)\n",
    "axY.set_ylim([-1.1, 1.1])\n",
    "axZ.plot(times, Z1, 'ro', times, Z2, 'bo', times, Z3, 'ko')\n",
    "axZ.plot(timesEx, ExZ1, color='red', linewidth=2, linestyle='dashed')\n",
    "axZ.plot(timesEx, ExZ2, color='blue', linewidth=2, linestyle='dashed')\n",
    "axZ.plot(timesEx, ExZ3, color='black', linewidth=2, linestyle='dashed')\n",
    "axZ.set_title(r\"$\\langle\\hat{Z}_i\\rangle$\")\n",
    "axZ.set_xlabel(r\"$t$ (u. a.)\")\n",
    "axZ.set_aspect(aspect=0.5)\n",
    "axZ.set_ylim([-1.1, 1.1])\n",
    "fig.savefig('XYZModel_Jakarta.pdf')\n",
    "plt.show()\n"
   ]
  },
  {
   "cell_type": "markdown",
   "metadata": {},
   "source": [
    "## Appendix: Trotterization Benchmark\n",
    "\n",
    "What follows is a benchmark that is designed to assess the quality of the evolution algorithm. On a first stage, the asymptotic behavior is studied in terms of the actual unitary. In particular, the actual relation between evolution error, total time evolution, and number of integration steps is computed for a representative benchmark Hamiltonian. After that, the dynamics induced by trotterization scheme is compared to the actual dynamics, for a particular initial state, as a function of the integration step $dt = t/N$. Long time evolution averages are used to illustrate possible differences. The size of the system is varied so as to characterize the erformance of the algorithm as a function of this parameter.\n",
    "\n",
    "### Benchmark Hamiltonian\n",
    "\n",
    "The benchmark Hamiltonian is of the shape\n",
    "\n",
    "$$\n",
    "\\hat{H} = \\sum_{i=0}^{\\mathcal{N}-2} \\bigg(\\frac{1}{2}\\hat{X}^{(i)}\\hat{X}^{(i+1)} + \\hat{Y}^{(i)}\\hat{Y}^{(i+1)} + \\frac{1}{4}\\hat{Z}^{(i)}\\hat{Z}^{(i+1)} \\bigg) + \\sum_{i=0}^{\\mathcal{N}-1} \\bigg(\\hat{X}^{(i)} + \\frac{1}{4} \\hat{Y}^{(i)} + \\frac{1}{2} \\hat{Z}^{(i)} \\bigg)\n",
    "$$\n",
    "\n",
    "This corresponds to an $XYZ$ Model, with an external field constant across the chain, and with non-periodic boundary conditions. The size of the system $\\mathcal{N}$ may be varied arbitrarily. However, it is suggested that sizes no larger than $\\mathcal{N} = 8$ be used on standard machines. Evolution of large systems is qte resource demanding (obviously). Although this exact notebook was used for data generation throughout the project, execution times tend to be quite large, and thus unless they are sought to be reproduced exactly, it is advised that the reader restricts the system's size for simple demos."
   ]
  },
  {
   "cell_type": "markdown",
   "metadata": {},
   "source": [
    "## Asymptotic Analysis of Evolution Precision\n",
    "\n",
    "In this section, a benchmark model is used for studying the Trotterization scheme performance at very small step sizes. Previous work predict a power law that relates\n",
    "\n",
    "1. Evolution unitary error ($\\epsilon$)\n",
    "1. Number of integration steps ($N$)\n",
    "1. Total simulation time ($t$)\n",
    "\n",
    "The Trotterization scheme proposed in this project produces a unitary $\\hat{U}_N(t)$, that approximates the exact evolution unitary\n",
    "\n",
    "$$\n",
    "\\hat{U}(t) = \\mathrm{e}^{-\\mathrm{i}\\hat{H}t}\n",
    "$$"
   ]
  },
  {
   "cell_type": "markdown",
   "metadata": {},
   "source": [
    "### Studying a sample\n",
    "\n",
    "In this section a 5 spin system is used to evaluate the evolution error as a function of both $t$ and $N$. Here\n",
    "\n",
    "$$\n",
    "\\epsilon = ||\\hat{U}_N(t) - \\hat{U}(t)||\n",
    "$$\n",
    "\n",
    "Where the distance is simply the Frobenius norm. The results are evaluated using QASM simulator. Both time and number of integration steps are varied to determine a power law that predicts the asymptotic error for large times ."
   ]
  },
  {
   "cell_type": "code",
   "execution_count": 4,
   "metadata": {},
   "outputs": [],
   "source": [
    "numSpins = 6\n",
    "benchmarkGraph = HeisenbergGraph(\n",
    "    spinInteractions={\n",
    "        (idx, idx+1): [0.5, 1.0, 0.25]\n",
    "        for idx in range(numSpins-1)\n",
    "    },\n",
    "    externalField={\n",
    "        idx: [1.0, 0.25, 0.5]\n",
    "        for idx in range(numSpins)\n",
    "    },\n",
    "    localSimulation=True,\n",
    "    backendName='qasm_simulator',\n",
    "    noisySimulation=False,\n",
    "    initialState=np.array([1 if idx == 1 else 0 for idx in range(2**numSpins)])\n",
    ")\n",
    "benchmarkAnalyzer = DataAnalyzer(spinGraph=benchmarkGraph)\n"
   ]
  },
  {
   "cell_type": "markdown",
   "metadata": {},
   "source": [
    "#### Results and dscussion\n",
    "\n",
    "After computing errors, for this sample system, it is noticed that there is in fact a power law that describes the asymptotic error. In fact, linear regressions are performed to determine the exponents. Bellow, a plot confirming this fact is presented."
   ]
  },
  {
   "cell_type": "code",
   "execution_count": null,
   "metadata": {},
   "outputs": [],
   "source": [
    "sim = benchmarkAnalyzer.unitaryErrorMixedPlot(\n",
    "    STEPS = np.array([idx for idx in range(200, 232)]),\n",
    "    times = [1,2,4,8,16,32]\n",
    ")"
   ]
  },
  {
   "cell_type": "markdown",
   "metadata": {},
   "source": [
    "In the following cells, linear regressions are performed, and exponents can be seen for different times and number of steps. The data suggests that\n",
    "\n",
    "$$\n",
    "\\epsilon \\approx A \\frac{t^{\\frac{6}{5}}}{N}\n",
    "$$\n",
    "\n",
    "In this asymptotic regime. This shows that although Berry et. al. produce a relatively tight bound for the Trotterization error, the actual computational complexity is better than the predicted by those computations, at least for the type of systems considered in this work. Since circuit depth scales linearly with the number of integration steps. However, this behavior is only asymptotic. It will be shown in following cells that the dynamics for a small number of integration steps and large times is fairly erratic, and there is a clear convergence radius that marks the onset of the asymptotic behavior.\n",
    "\n",
    "**Note:** The following cells contain the results of the regressions."
   ]
  },
  {
   "cell_type": "code",
   "execution_count": 7,
   "metadata": {},
   "outputs": [],
   "source": [
    "from scipy.stats import linregress\n",
    "import pandas as pd\n",
    "from IPython.display import display\n",
    "STEPS = np.array([idx for idx in range(200, 232)])\n",
    "times = [1, 2, 4, 8, 16, 32]\n",
    "columns = [\"slope\", \"intercept\", \"r-value\", \"p-value\", \"std-err\"]\n",
    "stepRows = [f\"t={t}\" for t in times]\n",
    "timeRows = [f\"N={n}\" for n in STEPS]"
   ]
  },
  {
   "cell_type": "code",
   "execution_count": 8,
   "metadata": {},
   "outputs": [
    {
     "data": {
      "text/html": [
       "<div>\n",
       "<style scoped>\n",
       "    .dataframe tbody tr th:only-of-type {\n",
       "        vertical-align: middle;\n",
       "    }\n",
       "\n",
       "    .dataframe tbody tr th {\n",
       "        vertical-align: top;\n",
       "    }\n",
       "\n",
       "    .dataframe thead th {\n",
       "        text-align: right;\n",
       "    }\n",
       "</style>\n",
       "<table border=\"1\" class=\"dataframe\">\n",
       "  <thead>\n",
       "    <tr style=\"text-align: right;\">\n",
       "      <th></th>\n",
       "      <th>slope</th>\n",
       "      <th>intercept</th>\n",
       "      <th>r-value</th>\n",
       "      <th>p-value</th>\n",
       "      <th>std-err</th>\n",
       "    </tr>\n",
       "  </thead>\n",
       "  <tbody>\n",
       "    <tr>\n",
       "      <th>t=1</th>\n",
       "      <td>-1.000033</td>\n",
       "      <td>2.415382</td>\n",
       "      <td>-1.000000</td>\n",
       "      <td>8.642650e-189</td>\n",
       "      <td>1.048778e-07</td>\n",
       "    </tr>\n",
       "    <tr>\n",
       "      <th>t=2</th>\n",
       "      <td>-0.999982</td>\n",
       "      <td>3.260707</td>\n",
       "      <td>-1.000000</td>\n",
       "      <td>2.989916e-187</td>\n",
       "      <td>1.180216e-07</td>\n",
       "    </tr>\n",
       "    <tr>\n",
       "      <th>t=4</th>\n",
       "      <td>-1.000372</td>\n",
       "      <td>3.971356</td>\n",
       "      <td>-1.000000</td>\n",
       "      <td>7.748542e-150</td>\n",
       "      <td>2.085690e-06</td>\n",
       "    </tr>\n",
       "    <tr>\n",
       "      <th>t=8</th>\n",
       "      <td>-1.005337</td>\n",
       "      <td>4.742891</td>\n",
       "      <td>-1.000000</td>\n",
       "      <td>2.448726e-113</td>\n",
       "      <td>3.451890e-05</td>\n",
       "    </tr>\n",
       "    <tr>\n",
       "      <th>t=16</th>\n",
       "      <td>-1.066622</td>\n",
       "      <td>5.872705</td>\n",
       "      <td>-0.999998</td>\n",
       "      <td>1.547176e-81</td>\n",
       "      <td>4.205103e-04</td>\n",
       "    </tr>\n",
       "    <tr>\n",
       "      <th>t=32</th>\n",
       "      <td>-1.364227</td>\n",
       "      <td>8.624357</td>\n",
       "      <td>-0.999990</td>\n",
       "      <td>4.768404e-72</td>\n",
       "      <td>1.114168e-03</td>\n",
       "    </tr>\n",
       "  </tbody>\n",
       "</table>\n",
       "</div>"
      ],
      "text/plain": [
       "         slope  intercept   r-value        p-value       std-err\n",
       "t=1  -1.000033   2.415382 -1.000000  8.642650e-189  1.048778e-07\n",
       "t=2  -0.999982   3.260707 -1.000000  2.989916e-187  1.180216e-07\n",
       "t=4  -1.000372   3.971356 -1.000000  7.748542e-150  2.085690e-06\n",
       "t=8  -1.005337   4.742891 -1.000000  2.448726e-113  3.451890e-05\n",
       "t=16 -1.066622   5.872705 -0.999998   1.547176e-81  4.205103e-04\n",
       "t=32 -1.364227   8.624357 -0.999990   4.768404e-72  1.114168e-03"
      ]
     },
     "metadata": {},
     "output_type": "display_data"
    }
   ],
   "source": [
    "stepsLinregress = [\n",
    "    [\n",
    "        item\n",
    "        for item in linregress(\n",
    "            np.log(STEPS),\n",
    "            np.log(sim[idx, :])\n",
    "        )\n",
    "    ]\n",
    "    for idx in range(len(times))\n",
    "]\n",
    "stepDf = pd.DataFrame(\n",
    "    data=stepsLinregress,\n",
    "    index=stepRows,\n",
    "    columns=columns\n",
    ")\n",
    "display(stepDf)"
   ]
  },
  {
   "cell_type": "code",
   "execution_count": 10,
   "metadata": {},
   "outputs": [
    {
     "data": {
      "text/html": [
       "<div>\n",
       "<style scoped>\n",
       "    .dataframe tbody tr th:only-of-type {\n",
       "        vertical-align: middle;\n",
       "    }\n",
       "\n",
       "    .dataframe tbody tr th {\n",
       "        vertical-align: top;\n",
       "    }\n",
       "\n",
       "    .dataframe thead th {\n",
       "        text-align: right;\n",
       "    }\n",
       "</style>\n",
       "<table border=\"1\" class=\"dataframe\">\n",
       "  <thead>\n",
       "    <tr style=\"text-align: right;\">\n",
       "      <th></th>\n",
       "      <th>slope</th>\n",
       "      <th>intercept</th>\n",
       "      <th>r-value</th>\n",
       "      <th>p-value</th>\n",
       "      <th>std-err</th>\n",
       "    </tr>\n",
       "  </thead>\n",
       "  <tbody>\n",
       "    <tr>\n",
       "      <th>N=200</th>\n",
       "      <td>1.192165</td>\n",
       "      <td>-2.935006</td>\n",
       "      <td>0.996322</td>\n",
       "      <td>0.000020</td>\n",
       "      <td>0.051267</td>\n",
       "    </tr>\n",
       "    <tr>\n",
       "      <th>N=201</th>\n",
       "      <td>1.191721</td>\n",
       "      <td>-2.939612</td>\n",
       "      <td>0.996346</td>\n",
       "      <td>0.000020</td>\n",
       "      <td>0.051078</td>\n",
       "    </tr>\n",
       "    <tr>\n",
       "      <th>N=202</th>\n",
       "      <td>1.191281</td>\n",
       "      <td>-2.944198</td>\n",
       "      <td>0.996370</td>\n",
       "      <td>0.000020</td>\n",
       "      <td>0.050891</td>\n",
       "    </tr>\n",
       "    <tr>\n",
       "      <th>N=203</th>\n",
       "      <td>1.190845</td>\n",
       "      <td>-2.948762</td>\n",
       "      <td>0.996394</td>\n",
       "      <td>0.000019</td>\n",
       "      <td>0.050706</td>\n",
       "    </tr>\n",
       "    <tr>\n",
       "      <th>N=204</th>\n",
       "      <td>1.190413</td>\n",
       "      <td>-2.953305</td>\n",
       "      <td>0.996417</td>\n",
       "      <td>0.000019</td>\n",
       "      <td>0.050522</td>\n",
       "    </tr>\n",
       "    <tr>\n",
       "      <th>N=205</th>\n",
       "      <td>1.189985</td>\n",
       "      <td>-2.957828</td>\n",
       "      <td>0.996440</td>\n",
       "      <td>0.000019</td>\n",
       "      <td>0.050340</td>\n",
       "    </tr>\n",
       "  </tbody>\n",
       "</table>\n",
       "</div>"
      ],
      "text/plain": [
       "          slope  intercept   r-value   p-value   std-err\n",
       "N=200  1.192165  -2.935006  0.996322  0.000020  0.051267\n",
       "N=201  1.191721  -2.939612  0.996346  0.000020  0.051078\n",
       "N=202  1.191281  -2.944198  0.996370  0.000020  0.050891\n",
       "N=203  1.190845  -2.948762  0.996394  0.000019  0.050706\n",
       "N=204  1.190413  -2.953305  0.996417  0.000019  0.050522\n",
       "N=205  1.189985  -2.957828  0.996440  0.000019  0.050340"
      ]
     },
     "metadata": {},
     "output_type": "display_data"
    }
   ],
   "source": [
    "timesLinregress = [\n",
    "    [\n",
    "        item\n",
    "        for item in linregress(\n",
    "            np.log(times),\n",
    "            np.log(sim[:, idx])\n",
    "        )\n",
    "    ]\n",
    "    for idx in range(len(STEPS))\n",
    "]\n",
    "timesDf = pd.DataFrame(\n",
    "    data=timesLinregress,\n",
    "    index=timeRows,\n",
    "    columns=columns\n",
    ")\n",
    "display(timesDf.head(6))"
   ]
  },
  {
   "cell_type": "markdown",
   "metadata": {},
   "source": [
    "### Trotter dynamics\n",
    "\n",
    "As mentioned before, the asymptotic behavior is preceded by a more erratic dynamics. In this section, this is characterized by two metrics: **Long time average fidelity** and **Inverse participation ration**, defined as follows\n",
    "\n",
    "$$\n",
    "\\mathcal{F}_{\\infty} = \\lim_{n \\rightarrow \\infty} \\sum_{i = 1}^N |\\langle\\psi_0|\\hat{U}(t)^\\dagger\\hat{U}_N(t)|\\psi_0\\rangle|^2\n",
    "$$\n",
    "\n",
    "$$\n",
    "\\text{IPR} = \\sum_{n} |\\langle\\phi_n|\\psi_0\\rangle|^4\n",
    "$$\n",
    "\n",
    "Where $|\\psi_0\\rangle$ is the initial state of the system, and\n",
    "\n",
    "$$\n",
    "\\hat{U}_N(t)|\\phi_n\\rangle = \\mathrm{e}^{-\\mathrm{i}E_n t}|\\phi_n\\rangle\n",
    "$$\n",
    "\n",
    "These quantities are studied as a function of the _integration step_ $dt = t/N$. "
   ]
  },
  {
   "cell_type": "markdown",
   "metadata": {},
   "source": [
    "#### Study of Long Time Average Fidelity\n",
    "\n",
    "Data has been generated using `floquetDataGeneration.py`. The algorithm is based upon diagonalization with NumPy. This may not be the best algorithm, however, this was the best option given my knowledge of scientific computing on python. The datasets are computed for chains of sizes $2$, $4$, $6$, and $8$. Data can be found on `../datafiles/FloquetData`.\n",
    "\n",
    "In the following cell, ndarrays are generated with the simulation results"
   ]
  },
  {
   "cell_type": "code",
   "execution_count": 3,
   "metadata": {},
   "outputs": [],
   "source": [
    "spinVals = [2, 4, 6, 8]\n",
    "datasets = [\n",
    "    np.genfromtxt(\n",
    "        f\"../datafiles/FloquetData/sampleData_{spins}spins.csv\",\n",
    "        delimiter=\",\"\n",
    "    )\n",
    "    for spins in spinVals\n",
    "]"
   ]
  },
  {
   "cell_type": "markdown",
   "metadata": {},
   "source": [
    "Mow, plots for different spin values are generated"
   ]
  },
  {
   "cell_type": "code",
   "execution_count": 8,
   "metadata": {},
   "outputs": [
    {
     "data": {
      "image/png": "[encoded data removed]",
      "text/plain": [
       "<Figure size 432x288 with 1 Axes>"
      ]
     },
     "metadata": {
      "needs_background": "light"
     },
     "output_type": "display_data"
    }
   ],
   "source": [
    "figFloq, axFid = plt.subplots(1,1)\n",
    "axFid.set_xlabel(\"dt (u. a.)\")\n",
    "axFid.set_xscale(\"log\")\n",
    "axFid.set_yscale(\"log\")\n",
    "# axFid.set_title(\"Long time average fidelity\")\n",
    "axFid.set_ylabel(r\"1-$\\mathcal{F}_{\\infty}$\")\n",
    "# axIPR.set_xlabel(\"$dt$ (u. a.)\")\n",
    "# axIPR.set_xscale(\"log\")\n",
    "# axIPR.set_yscale(\"log\")\n",
    "# axIPR.set_title(\"IPR\")\n",
    "for idx, spin in enumerate(spinVals):\n",
    "    axFid.scatter(\n",
    "        datasets[idx][0:50, 0], \n",
    "        1-datasets[idx][0:50, 1], \n",
    "        label=r\"$\\mathcal{N}$\" + f\" = {spin}\"\n",
    "    )\n",
    "#     axIPR.scatter(\n",
    "#         datasets[idx][:, 0], \n",
    "#         datasets[idx][:, 2],\n",
    "#         label=r\"$\\mathcal{N}$\" + f\" = {spin}\"\n",
    "#     )\n",
    "# axIPR.legend()\n",
    "axFid.legend()\n",
    "figFloq.savefig(\n",
    "    \"../images/Benchmark/_others/longTimeFloquetFidelity.pdf\"\n",
    ")\n",
    "plt.show()\n"
   ]
  },
  {
   "cell_type": "markdown",
   "metadata": {},
   "source": [
    "#### Results and discussion\n",
    "\n",
    "From the $\\mathcal{F}_{\\infty}$ plot, it can be seen that there is a sharp change of regime for time steps $dt < 0.2$ approximately. There, the asymptotic regime is quite visible, whereas for larger time steps, the average fidelity is almost zero, which seems to suggest that there is a quite different time evolution below this threshold.\n",
    "\n",
    "**Note:** It is important to understand better how to describe the dynamics in terms of quantum chaos. Due to the normalization of the wavefunction, trajectory divergency saturates. Therefore, measures of quantum chaos should be studied carefully and addressed better here.\n",
    "\n",
    "Also, it is desirable to perform finite size scaling, to determine the large system critical time step below which deterministic dynamics occur. However, data looks weird, and may need be repeated."
   ]
  }
 ],
 "metadata": {
  "interpreter": {
   "hash": "b48813b5d247a780e691210bf5429f8cdf5a729bb561391a17bd7af31252a3dc"
  },
  "kernelspec": {
   "display_name": "Python 3.9.6 64-bit ('Thesis2020': conda)",
   "name": "python3"
  },
  "language_info": {
   "codemirror_mode": {
    "name": "ipython",
    "version": 3
   },
   "file_extension": ".py",
   "mimetype": "text/x-python",
   "name": "python",
   "nbconvert_exporter": "python",
   "pygments_lexer": "ipython3",
   "version": "3.8.12"
  },
  "orig_nbformat": 4
 },
 "nbformat": 4,
 "nbformat_minor": 2
}
