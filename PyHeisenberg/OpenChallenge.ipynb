{
 "cells": [
  {
   "cell_type": "code",
   "execution_count": 1,
   "metadata": {},
   "outputs": [],
   "source": [
    "from PyHeisenberg import HeisenbergGraph, DataAnalyzer, PulseSpinGraph\n",
    "import numpy as np\n",
    "import matplotlib.pyplot as plt\n",
    "import warnings\n",
    "from operator import itemgetter\n",
    "warnings.filterwarnings('ignore')\n",
    "plt.style.use('FigureStyle.mplstyle')"
   ]
  },
  {
   "cell_type": "code",
   "execution_count": 2,
   "metadata": {},
   "outputs": [],
   "source": [
    "pGraph = PulseSpinGraph(\n",
    "    spinInteractions={\n",
    "        (0, 1): [0, 0, 0],\n",
    "        (1, 2): [0, 0, 0],\n",
    "        (1, 3): [1, 1, 1],\n",
    "        (3, 5): [1, 1, 1],\n",
    "        (4, 5): [0, 0, 0],\n",
    "        (5, 6): [0, 0, 0],\n",
    "    },\n",
    "    externalField={\n",
    "        0: [0.0, 0.0, 0.0],\n",
    "        1: [0.0, 0.0, 0.0],\n",
    "        2: [0.0, 0.0, 0.0],\n",
    "        3: [0.0, 0.0, 0.0],\n",
    "        4: [0.0, 0.0, 0.0],\n",
    "        5: [0.0, 0.0, 0.0],\n",
    "        6: [0.0, 0.0, 0.0],\n",
    "    },\n",
    "    localSimulation=False,\n",
    "    backendName='ibmq_jakarta',\n",
    "    noisySimulation=False,\n",
    "    initializeList=[3,5]\n",
    ")\n",
    "pAnalyzer = DataAnalyzer(spinGraph=pGraph)"
   ]
  },
  {
   "cell_type": "code",
   "execution_count": null,
   "metadata": {},
   "outputs": [],
   "source": [
    "demo = pGraph.rawEvolutionCircuit(STEPS=1, t=1.7)\n",
    "demo.draw(output='mpl')"
   ]
  },
  {
   "cell_type": "code",
   "execution_count": null,
   "metadata": {},
   "outputs": [],
   "source": [
    "from qiskit import transpile\n",
    "transDemo = transpile(\n",
    "    demo,\n",
    "    basis_gates=['x', 'sx', 'rz', 'rzx'],\n",
    ")\n",
    "transDemo.draw(output='mpl')"
   ]
  },
  {
   "cell_type": "code",
   "execution_count": null,
   "metadata": {},
   "outputs": [],
   "source": [
    "from qiskit import schedule\n",
    "from qiskit.transpiler import PassManager\n",
    "from qiskit.transpiler.passes import RZXCalibrationBuilderNoEcho\n",
    "pm = PassManager([RZXCalibrationBuilderNoEcho(pGraph.backend)])\n",
    "passDemo = pm.run(transDemo)\n",
    "demoSchedule = schedule(passDemo, pGraph.backend)\n",
    "demoSchedule.draw()"
   ]
  },
  {
   "cell_type": "code",
   "execution_count": 7,
   "metadata": {},
   "outputs": [],
   "source": [
    "pauliStrings = ['IXIIIII', 'IIIXIII', 'IIIIIXI', 'IYIIIII',\n",
    "                'IIIYIII', 'IIIIIYI', 'IZIIIII', 'IIIZIII', 'IIIIIZI']\n",
    "timesEx, resultSeriesExact = pGraph.exactPauliExpValSeries(\n",
    "    pauliStrings,\n",
    "    t=1\n",
    ")\n",
    "ExX1, ExX2, ExX3, ExY1, ExY2, ExY3, ExZ1, ExZ2, ExZ3 = itemgetter(\n",
    "    *pauliStrings)(resultSeriesExact)"
   ]
  },
  {
   "cell_type": "code",
   "execution_count": 8,
   "metadata": {},
   "outputs": [
    {
     "name": "stdout",
     "output_type": "stream",
     "text": [
      "Job Status: job has successfully run\n"
     ]
    }
   ],
   "source": [
    "measurementFitter = pGraph.getCalibrationFitter()"
   ]
  },
  {
   "cell_type": "code",
   "execution_count": 9,
   "metadata": {},
   "outputs": [
    {
     "name": "stdout",
     "output_type": "stream",
     "text": [
      "Job Status: job has successfully run\n"
     ]
    }
   ],
   "source": [
    "times, resultSeries = pGraph.pauliExpValSeries(\n",
    "    pauliStrings,\n",
    "    MAX_STEPS=8,\n",
    "    t=1,\n",
    "    measurementFitter=measurementFitter\n",
    ")\n",
    "X1, X2, X3, Y1, Y2, Y3, Z1, Z2, Z3 = itemgetter(*pauliStrings)(resultSeries)"
   ]
  },
  {
   "cell_type": "code",
   "execution_count": 10,
   "metadata": {},
   "outputs": [
    {
     "data": {
      "image/png": "[encoded data removed]",
      "text/plain": [
       "<Figure size 432x288 with 3 Axes>"
      ]
     },
     "metadata": {
      "needs_background": "light"
     },
     "output_type": "display_data"
    }
   ],
   "source": [
    "fig, (axX, axY, axZ) = plt.subplots(1, 3)\n",
    "axX.plot(times, X1, 'ro', times, X2, 'bo', times, X3, 'ko')\n",
    "axX.plot(timesEx, ExX1, color='red', linewidth=2, linestyle='dashed')\n",
    "axX.plot(timesEx, ExX2, color='blue', linewidth=2, linestyle='dashed')\n",
    "axX.plot(timesEx, ExX3, color='black', linewidth=2, linestyle='dashed')\n",
    "axX.set_title(r\"$\\langle\\hat{X}_i\\rangle$\")\n",
    "axX.set_xlabel(r\"$t$ (u. a.)\")\n",
    "axX.set_aspect(aspect=0.5)\n",
    "axX.set_ylim([-1.1, 1.1])\n",
    "axY.plot(times, Y1, 'ro', times, Y2, 'bo', times, Y3, 'ko')\n",
    "axY.plot(timesEx, ExY1, color='red', linewidth=2, linestyle='dashed')\n",
    "axY.plot(timesEx, ExY2, color='blue', linewidth=2, linestyle='dashed')\n",
    "axY.plot(timesEx, ExY3, color='black', linewidth=2, linestyle='dashed')\n",
    "axY.set_title(r\"$\\langle\\hat{Y}_i\\rangle$\")\n",
    "axY.set_xlabel(r\"$t$ (u. a.)\")\n",
    "axY.set_aspect(aspect=0.5)\n",
    "axY.set_ylim([-1.1, 1.1])\n",
    "axZ.plot(times, Z1, 'ro', times, Z2, 'bo', times, Z3, 'ko')\n",
    "axZ.plot(timesEx, ExZ1, color='red', linewidth=2, linestyle='dashed')\n",
    "axZ.plot(timesEx, ExZ2, color='blue', linewidth=2, linestyle='dashed')\n",
    "axZ.plot(timesEx, ExZ3, color='black', linewidth=2, linestyle='dashed')\n",
    "axZ.set_title(r\"$\\langle\\hat{Z}_i\\rangle$\")\n",
    "axZ.set_xlabel(r\"$t$ (u. a.)\")\n",
    "axZ.set_aspect(aspect=0.5)\n",
    "axZ.set_ylim([-1.1, 1.1])\n",
    "fig.savefig('XYZModel_DirectPulse.pdf')\n",
    "plt.show()"
   ]
  }
 ],
 "metadata": {
  "interpreter": {
   "hash": "b48813b5d247a780e691210bf5429f8cdf5a729bb561391a17bd7af31252a3dc"
  },
  "kernelspec": {
   "display_name": "Python 3.8.12 64-bit ('Thesis2020': conda)",
   "language": "python",
   "name": "python3"
  },
  "language_info": {
   "codemirror_mode": {
    "name": "ipython",
    "version": 3
   },
   "file_extension": ".py",
   "mimetype": "text/x-python",
   "name": "python",
   "nbconvert_exporter": "python",
   "pygments_lexer": "ipython3",
   "version": "3.8.12"
  },
  "orig_nbformat": 4
 },
 "nbformat": 4,
 "nbformat_minor": 2
}
